{
 "cells": [
  {
   "cell_type": "markdown",
   "metadata": {
    "id": "NI4SxaHiFmhV"
   },
   "source": [
    "# Setup"
   ]
  },
  {
   "cell_type": "markdown",
   "metadata": {
    "id": "sqwrfaJ2bAMa"
   },
   "source": [
    "## Mount Drive"
   ]
  },
  {
   "cell_type": "code",
   "execution_count": 84,
   "metadata": {
    "colab": {
     "base_uri": "https://localhost:8080/"
    },
    "id": "DRDnnLaGiEgD",
    "outputId": "43e31fde-8d9f-4b02-e69e-661e7fa992d3"
   },
   "outputs": [
    {
     "name": "stdout",
     "output_type": "stream",
     "text": [
      "Drive already mounted at /content/drive; to attempt to forcibly remount, call drive.mount(\"/content/drive\", force_remount=True).\n"
     ]
    }
   ],
   "source": [
    "from google.colab import drive\n",
    "drive.mount('/content/drive')\n",
    "raw_data_location='/content/drive/My Drive/Capstone/Data/Raw/'"
   ]
  },
  {
   "cell_type": "markdown",
   "metadata": {
    "id": "pR0qCuOeYWUR"
   },
   "source": [
    "## pip install"
   ]
  },
  {
   "cell_type": "code",
   "execution_count": 85,
   "metadata": {
    "colab": {
     "base_uri": "https://localhost:8080/"
    },
    "id": "AjzORhoupYNx",
    "outputId": "b2ef6ae3-c80e-41e7-e84c-6cea25def438"
   },
   "outputs": [
    {
     "name": "stdout",
     "output_type": "stream",
     "text": [
      "Requirement already satisfied: contractions in /usr/local/lib/python3.10/dist-packages (0.1.73)\n",
      "Requirement already satisfied: scikeras in /usr/local/lib/python3.10/dist-packages (0.12.0)\n",
      "Requirement already satisfied: imblearn in /usr/local/lib/python3.10/dist-packages (0.0)\n",
      "Requirement already satisfied: textsearch>=0.0.21 in /usr/local/lib/python3.10/dist-packages (from contractions) (0.0.24)\n",
      "Requirement already satisfied: packaging>=0.21 in /usr/local/lib/python3.10/dist-packages (from scikeras) (24.0)\n",
      "Requirement already satisfied: scikit-learn>=1.0.0 in /usr/local/lib/python3.10/dist-packages (from scikeras) (1.2.2)\n",
      "Requirement already satisfied: imbalanced-learn in /usr/local/lib/python3.10/dist-packages (from imblearn) (0.10.1)\n",
      "Requirement already satisfied: numpy>=1.17.3 in /usr/local/lib/python3.10/dist-packages (from scikit-learn>=1.0.0->scikeras) (1.25.2)\n",
      "Requirement already satisfied: scipy>=1.3.2 in /usr/local/lib/python3.10/dist-packages (from scikit-learn>=1.0.0->scikeras) (1.11.4)\n",
      "Requirement already satisfied: joblib>=1.1.1 in /usr/local/lib/python3.10/dist-packages (from scikit-learn>=1.0.0->scikeras) (1.3.2)\n",
      "Requirement already satisfied: threadpoolctl>=2.0.0 in /usr/local/lib/python3.10/dist-packages (from scikit-learn>=1.0.0->scikeras) (3.3.0)\n",
      "Requirement already satisfied: anyascii in /usr/local/lib/python3.10/dist-packages (from textsearch>=0.0.21->contractions) (0.3.2)\n",
      "Requirement already satisfied: pyahocorasick in /usr/local/lib/python3.10/dist-packages (from textsearch>=0.0.21->contractions) (2.1.0)\n"
     ]
    }
   ],
   "source": [
    "pip install contractions scikeras imblearn"
   ]
  },
  {
   "cell_type": "markdown",
   "metadata": {
    "id": "ABsUHyL5YS-8"
   },
   "source": [
    "## Libraries"
   ]
  },
  {
   "cell_type": "code",
   "execution_count": 86,
   "metadata": {
    "colab": {
     "base_uri": "https://localhost:8080/"
    },
    "id": "-8o5sfk4piNy",
    "outputId": "0ffe85b8-eb52-4a70-c928-03e183f89172"
   },
   "outputs": [
    {
     "name": "stderr",
     "output_type": "stream",
     "text": [
      "[nltk_data] Downloading package punkt to /root/nltk_data...\n",
      "[nltk_data]   Package punkt is already up-to-date!\n",
      "[nltk_data] Downloading package wordnet to /root/nltk_data...\n",
      "[nltk_data]   Package wordnet is already up-to-date!\n",
      "[nltk_data] Downloading package stopwords to /root/nltk_data...\n",
      "[nltk_data]   Package stopwords is already up-to-date!\n"
     ]
    }
   ],
   "source": [
    "# Generic libraries\n",
    "import pandas as pd\n",
    "import numpy as np\n",
    "import tensorflow as tf\n",
    "\n",
    "# Sklearn library\n",
    "from sklearn.model_selection import train_test_split,GridSearchCV,RandomizedSearchCV\n",
    "from sklearn.preprocessing import OneHotEncoder, LabelEncoder\n",
    "from sklearn.metrics import classification_report,confusion_matrix\n",
    "from sklearn.utils.class_weight import compute_class_weight\n",
    "from imblearn.over_sampling import SMOTE\n",
    "from imblearn.under_sampling import TomekLinks, RandomUnderSampler\n",
    "\n",
    "# Charting library\n",
    "import matplotlib.pyplot as plt\n",
    "import seaborn as sns\n",
    "\n",
    "# NN libraries\n",
    "\n",
    "from tensorflow.keras.utils import to_categorical\n",
    "from tensorflow.keras.models import Sequential,Model\n",
    "from tensorflow.keras.layers import SimpleRNN,Embedding,LSTM,Dense,Dropout,Input, concatenate,Flatten, BatchNormalization\n",
    "from keras.optimizers import Adam\n",
    "# from keras.models import Model\n",
    "# from keras.layers import Input, concatenate\n",
    "from scikeras.wrappers import KerasClassifier\n",
    "from tensorflow.keras.preprocessing.text import Tokenizer\n",
    "from tensorflow.keras.preprocessing.sequence import pad_sequences\n",
    "from nltk.stem import WordNetLemmatizer\n",
    "from nltk.tokenize import word_tokenize\n",
    "import contractions\n",
    "import nltk\n",
    "import gensim\n",
    "from gensim.models import Word2Vec, KeyedVectors\n",
    "nltk.download('punkt')\n",
    "nltk.download('wordnet')\n",
    "nltk.download('stopwords')\n",
    "\n",
    "import warnings\n",
    "warnings.filterwarnings('ignore')\n"
   ]
  },
  {
   "cell_type": "markdown",
   "metadata": {
    "id": "VKI82rg8bFSX"
   },
   "source": [
    "## Import Word2Vec pre trained embedding"
   ]
  },
  {
   "cell_type": "code",
   "execution_count": 87,
   "metadata": {
    "id": "wabb-yLTbKFE"
   },
   "outputs": [],
   "source": [
    "word_vectors = KeyedVectors.load_word2vec_format(raw_data_location+\"/GoogleNews-vectors-negative300.bin.gz\", binary=True)"
   ]
  },
  {
   "cell_type": "markdown",
   "metadata": {
    "id": "FxheLB8WGhVP"
   },
   "source": [
    "# Data preprocessing"
   ]
  },
  {
   "cell_type": "markdown",
   "metadata": {
    "id": "9iMNwrpTxkXG"
   },
   "source": [
    "## Data import"
   ]
  },
  {
   "cell_type": "code",
   "execution_count": 88,
   "metadata": {
    "id": "uxQTah7-xm-j"
   },
   "outputs": [],
   "source": [
    "df=pd.read_excel(raw_data_location + \"/Data Set - industrial_safety_and_health_database_with_accidents_description.xlsx\",usecols=lambda column: column != 'Unnamed: 0')"
   ]
  },
  {
   "cell_type": "markdown",
   "metadata": {
    "id": "Zy0bpENuRZgX"
   },
   "source": [
    "Data set\n",
    "  In this dataset, the information about accidents in 12 manufacturing plants in 3 countries are given by a brazilian company. We need to use this dataset to understand why accidents occur, and discover clues to reduce tragedic accidents.\n",
    "\n",
    "Dataset columns are below:\n",
    "    \n",
    "*   **Data** : timestamp or time/date information\n",
    "*   **Countries** : which country the accident occurred\n",
    "*   **Local** : the city where the manufacturing plant is located\n",
    "*   **Industry sector** : which sector the plant belongs to\n",
    "*   **Accident level **: from I to V, it registers how severe was the accident (I means not severe but V means very severe).\n",
    "*   **Industry sector** : which sector the plant belongs to\n",
    "*   **Potential Accident Level** : Depending on the Accident Level, the database also registers how severe the accident could have been (due to other factors involved in the accident)  \n",
    "*   **Genre** : if the person is male of female\n",
    "*   **Employee or Third Party **: if the injured person is an employee or a third party\n",
    "*  **Critical Risk** : some description of the risk involved in the accident\n",
    "*  **Description** : Detailed description of how the accident happened\n",
    "    "
   ]
  },
  {
   "cell_type": "markdown",
   "metadata": {
    "id": "EUX9FWOdRjc9"
   },
   "source": [
    "## Basic checks"
   ]
  },
  {
   "cell_type": "code",
   "execution_count": 89,
   "metadata": {
    "colab": {
     "base_uri": "https://localhost:8080/"
    },
    "id": "3YUKHjzmRg_J",
    "outputId": "a78a04d4-9b4e-4dc9-b6d0-977c623ab987"
   },
   "outputs": [
    {
     "name": "stdout",
     "output_type": "stream",
     "text": [
      "1.Shape of the data\n",
      "_______\n",
      "The no. of rows in the data are 425\n",
      "The no. of columns in the data are 10\n",
      "=======\n",
      "2.Data types\n",
      "_______\n",
      "<class 'pandas.core.frame.DataFrame'>\n",
      "RangeIndex: 425 entries, 0 to 424\n",
      "Data columns (total 10 columns):\n",
      " #   Column                    Non-Null Count  Dtype         \n",
      "---  ------                    --------------  -----         \n",
      " 0   Data                      425 non-null    datetime64[ns]\n",
      " 1   Countries                 425 non-null    object        \n",
      " 2   Local                     425 non-null    object        \n",
      " 3   Industry Sector           425 non-null    object        \n",
      " 4   Accident Level            425 non-null    object        \n",
      " 5   Potential Accident Level  425 non-null    object        \n",
      " 6   Genre                     425 non-null    object        \n",
      " 7   Employee or Third Party   425 non-null    object        \n",
      " 8   Critical Risk             425 non-null    object        \n",
      " 9   Description               425 non-null    object        \n",
      "dtypes: datetime64[ns](1), object(9)\n",
      "memory usage: 33.3+ KB\n",
      "None\n",
      "=======\n",
      "3.Columns\n",
      "_______\n",
      "Index(['Data', 'Countries', 'Local', 'Industry Sector', 'Accident Level',\n",
      "       'Potential Accident Level', 'Genre', 'Employee or Third Party',\n",
      "       'Critical Risk', 'Description'],\n",
      "      dtype='object')\n",
      "=======\n"
     ]
    }
   ],
   "source": [
    "print(\"1.Shape of the data\")\n",
    "print(\"_______\")\n",
    "print(\"The no. of rows in the data are\",df.shape[0])\n",
    "print(\"The no. of columns in the data are\",df.shape[1])\n",
    "print(\"=======\")\n",
    "\n",
    "print(\"2.Data types\")\n",
    "print(\"_______\")\n",
    "print(df.info())\n",
    "print(\"=======\")\n",
    "\n",
    "print(\"3.Columns\")\n",
    "print(\"_______\")\n",
    "print(df.columns)\n",
    "print(\"=======\")\n",
    "# Two columns are mislabeled\n",
    "# Data -> Date\n",
    "# Genre -> Gender"
   ]
  },
  {
   "cell_type": "markdown",
   "metadata": {
    "id": "7n9KnV_AxqT4"
   },
   "source": [
    "## Data Cleansing"
   ]
  },
  {
   "cell_type": "code",
   "execution_count": 90,
   "metadata": {
    "id": "qLNxMhQRrIUM"
   },
   "outputs": [],
   "source": [
    "#Removing the duplicated records\n",
    "df_nodup= df.drop_duplicates(keep='first')\n",
    "df_nodup.reset_index(drop=True,inplace=True)\n",
    "df_nodup = df_nodup.rename(columns={'Data': 'Date', 'Genre': 'Gender'})\n",
    "\n",
    "# Target encoding\n",
    "target_encoder = LabelEncoder()\n",
    "df_nodup['encoded_accident'] = target_encoder.fit_transform(df_nodup['Accident Level'])\n",
    "\n",
    "#Create time related variables\n",
    "df_nodup['Date'] = pd.to_datetime(df_nodup['Date'])\n",
    "df_nodup['Year'] = df_nodup['Date'].dt.year\n",
    "df_nodup['Month'] = df_nodup['Date'].dt.month\n",
    "df_nodup['Day'] = df_nodup['Date'].dt.day\n",
    "df_nodup['Weekday'] = df_nodup['Date'].dt.weekday\n",
    "\n",
    "# one hot encoding\n",
    "onehotvars=['Countries','Local','Industry Sector','Gender','Employee or Third Party','Critical Risk','Year','Month','Day','Weekday']\n",
    "df_nodup = pd.get_dummies(df_nodup,columns=onehotvars)\n",
    "\n",
    "#cleansing description\n",
    "lemmatizer = WordNetLemmatizer()\n",
    "cleansed_description=[]\n",
    "for i in range(df_nodup.shape[0]):\n",
    "  expanded_description = contractions.fix(df_nodup['Description'].iloc[i]).lower()\n",
    "  words = word_tokenize(expanded_description)\n",
    "  lemmatized_words = [lemmatizer.lemmatize(word,pos='v') for word in words]\n",
    "  cleansed_desc = ' '.join(lemmatized_words)\n",
    "  cleansed_description.append(cleansed_desc)\n",
    "df_nodup['cleansed_description'] = cleansed_description"
   ]
  },
  {
   "cell_type": "code",
   "execution_count": 91,
   "metadata": {
    "colab": {
     "base_uri": "https://localhost:8080/",
     "height": 0
    },
    "id": "auLE71JYEFah",
    "outputId": "24e70b4c-9d6a-44a7-dc17-b67f7a783a90"
   },
   "outputs": [
    {
     "name": "stdout",
     "output_type": "stream",
     "text": [
      "There are 14 records with same description\n"
     ]
    },
    {
     "data": {
      "application/vnd.google.colaboratory.intrinsic+json": {
       "type": "dataframe"
      },
      "text/html": [
       "\n",
       "  <div id=\"df-8b39db99-3588-41af-b889-c9979b0a48a3\" class=\"colab-df-container\">\n",
       "    <div>\n",
       "<style scoped>\n",
       "    .dataframe tbody tr th:only-of-type {\n",
       "        vertical-align: middle;\n",
       "    }\n",
       "\n",
       "    .dataframe tbody tr th {\n",
       "        vertical-align: top;\n",
       "    }\n",
       "\n",
       "    .dataframe thead th {\n",
       "        text-align: right;\n",
       "    }\n",
       "</style>\n",
       "<table border=\"1\" class=\"dataframe\">\n",
       "  <thead>\n",
       "    <tr style=\"text-align: right;\">\n",
       "      <th></th>\n",
       "      <th>Date</th>\n",
       "      <th>Accident Level</th>\n",
       "      <th>Potential Accident Level</th>\n",
       "      <th>Description</th>\n",
       "      <th>encoded_accident</th>\n",
       "      <th>Countries_Country_01</th>\n",
       "      <th>Countries_Country_02</th>\n",
       "      <th>Countries_Country_03</th>\n",
       "      <th>Local_Local_01</th>\n",
       "      <th>Local_Local_02</th>\n",
       "      <th>...</th>\n",
       "      <th>Day_30</th>\n",
       "      <th>Day_31</th>\n",
       "      <th>Weekday_0</th>\n",
       "      <th>Weekday_1</th>\n",
       "      <th>Weekday_2</th>\n",
       "      <th>Weekday_3</th>\n",
       "      <th>Weekday_4</th>\n",
       "      <th>Weekday_5</th>\n",
       "      <th>Weekday_6</th>\n",
       "      <th>cleansed_description</th>\n",
       "    </tr>\n",
       "  </thead>\n",
       "  <tbody>\n",
       "    <tr>\n",
       "      <th>37</th>\n",
       "      <td>2016-02-24</td>\n",
       "      <td>I</td>\n",
       "      <td>V</td>\n",
       "      <td>When starting the activity of removing a coil ...</td>\n",
       "      <td>0</td>\n",
       "      <td>0</td>\n",
       "      <td>1</td>\n",
       "      <td>0</td>\n",
       "      <td>0</td>\n",
       "      <td>0</td>\n",
       "      <td>...</td>\n",
       "      <td>0</td>\n",
       "      <td>0</td>\n",
       "      <td>0</td>\n",
       "      <td>0</td>\n",
       "      <td>1</td>\n",
       "      <td>0</td>\n",
       "      <td>0</td>\n",
       "      <td>0</td>\n",
       "      <td>0</td>\n",
       "      <td>when start the activity of remove a coil of el...</td>\n",
       "    </tr>\n",
       "    <tr>\n",
       "      <th>38</th>\n",
       "      <td>2016-02-24</td>\n",
       "      <td>I</td>\n",
       "      <td>V</td>\n",
       "      <td>When starting the activity of removing a coil ...</td>\n",
       "      <td>0</td>\n",
       "      <td>0</td>\n",
       "      <td>1</td>\n",
       "      <td>0</td>\n",
       "      <td>0</td>\n",
       "      <td>0</td>\n",
       "      <td>...</td>\n",
       "      <td>0</td>\n",
       "      <td>0</td>\n",
       "      <td>0</td>\n",
       "      <td>0</td>\n",
       "      <td>1</td>\n",
       "      <td>0</td>\n",
       "      <td>0</td>\n",
       "      <td>0</td>\n",
       "      <td>0</td>\n",
       "      <td>when start the activity of remove a coil of el...</td>\n",
       "    </tr>\n",
       "    <tr>\n",
       "      <th>129</th>\n",
       "      <td>2016-05-26</td>\n",
       "      <td>I</td>\n",
       "      <td>I</td>\n",
       "      <td>In the geological reconnaissance activity, in ...</td>\n",
       "      <td>0</td>\n",
       "      <td>0</td>\n",
       "      <td>0</td>\n",
       "      <td>1</td>\n",
       "      <td>0</td>\n",
       "      <td>0</td>\n",
       "      <td>...</td>\n",
       "      <td>0</td>\n",
       "      <td>0</td>\n",
       "      <td>0</td>\n",
       "      <td>0</td>\n",
       "      <td>0</td>\n",
       "      <td>1</td>\n",
       "      <td>0</td>\n",
       "      <td>0</td>\n",
       "      <td>0</td>\n",
       "      <td>in the geological reconnaissance activity , in...</td>\n",
       "    </tr>\n",
       "    <tr>\n",
       "      <th>130</th>\n",
       "      <td>2016-05-26</td>\n",
       "      <td>I</td>\n",
       "      <td>I</td>\n",
       "      <td>In the geological reconnaissance activity, in ...</td>\n",
       "      <td>0</td>\n",
       "      <td>0</td>\n",
       "      <td>0</td>\n",
       "      <td>1</td>\n",
       "      <td>0</td>\n",
       "      <td>0</td>\n",
       "      <td>...</td>\n",
       "      <td>0</td>\n",
       "      <td>0</td>\n",
       "      <td>0</td>\n",
       "      <td>0</td>\n",
       "      <td>0</td>\n",
       "      <td>1</td>\n",
       "      <td>0</td>\n",
       "      <td>0</td>\n",
       "      <td>0</td>\n",
       "      <td>in the geological reconnaissance activity , in...</td>\n",
       "    </tr>\n",
       "    <tr>\n",
       "      <th>142</th>\n",
       "      <td>2016-06-08</td>\n",
       "      <td>I</td>\n",
       "      <td>I</td>\n",
       "      <td>Project of Vazante that carried out sediment c...</td>\n",
       "      <td>0</td>\n",
       "      <td>0</td>\n",
       "      <td>0</td>\n",
       "      <td>1</td>\n",
       "      <td>0</td>\n",
       "      <td>0</td>\n",
       "      <td>...</td>\n",
       "      <td>0</td>\n",
       "      <td>0</td>\n",
       "      <td>0</td>\n",
       "      <td>0</td>\n",
       "      <td>1</td>\n",
       "      <td>0</td>\n",
       "      <td>0</td>\n",
       "      <td>0</td>\n",
       "      <td>0</td>\n",
       "      <td>project of vazante that carry out sediment col...</td>\n",
       "    </tr>\n",
       "    <tr>\n",
       "      <th>143</th>\n",
       "      <td>2016-06-08</td>\n",
       "      <td>I</td>\n",
       "      <td>I</td>\n",
       "      <td>Project of Vazante that carried out sediment c...</td>\n",
       "      <td>0</td>\n",
       "      <td>0</td>\n",
       "      <td>0</td>\n",
       "      <td>1</td>\n",
       "      <td>0</td>\n",
       "      <td>0</td>\n",
       "      <td>...</td>\n",
       "      <td>0</td>\n",
       "      <td>0</td>\n",
       "      <td>0</td>\n",
       "      <td>0</td>\n",
       "      <td>1</td>\n",
       "      <td>0</td>\n",
       "      <td>0</td>\n",
       "      <td>0</td>\n",
       "      <td>0</td>\n",
       "      <td>project of vazante that carry out sediment col...</td>\n",
       "    </tr>\n",
       "    <tr>\n",
       "      <th>165</th>\n",
       "      <td>2016-07-07</td>\n",
       "      <td>IV</td>\n",
       "      <td>V</td>\n",
       "      <td>At moments when the MAPERU truck of plate F1T ...</td>\n",
       "      <td>3</td>\n",
       "      <td>1</td>\n",
       "      <td>0</td>\n",
       "      <td>0</td>\n",
       "      <td>0</td>\n",
       "      <td>0</td>\n",
       "      <td>...</td>\n",
       "      <td>0</td>\n",
       "      <td>0</td>\n",
       "      <td>0</td>\n",
       "      <td>0</td>\n",
       "      <td>0</td>\n",
       "      <td>1</td>\n",
       "      <td>0</td>\n",
       "      <td>0</td>\n",
       "      <td>0</td>\n",
       "      <td>at moments when the maperu truck of plate f1t ...</td>\n",
       "    </tr>\n",
       "    <tr>\n",
       "      <th>166</th>\n",
       "      <td>2016-07-07</td>\n",
       "      <td>I</td>\n",
       "      <td>IV</td>\n",
       "      <td>At moments when the MAPERU truck of plate F1T ...</td>\n",
       "      <td>0</td>\n",
       "      <td>1</td>\n",
       "      <td>0</td>\n",
       "      <td>0</td>\n",
       "      <td>0</td>\n",
       "      <td>0</td>\n",
       "      <td>...</td>\n",
       "      <td>0</td>\n",
       "      <td>0</td>\n",
       "      <td>0</td>\n",
       "      <td>0</td>\n",
       "      <td>0</td>\n",
       "      <td>1</td>\n",
       "      <td>0</td>\n",
       "      <td>0</td>\n",
       "      <td>0</td>\n",
       "      <td>at moments when the maperu truck of plate f1t ...</td>\n",
       "    </tr>\n",
       "    <tr>\n",
       "      <th>260</th>\n",
       "      <td>2016-12-01</td>\n",
       "      <td>I</td>\n",
       "      <td>IV</td>\n",
       "      <td>During the activity of chuteo of ore in hopper...</td>\n",
       "      <td>0</td>\n",
       "      <td>1</td>\n",
       "      <td>0</td>\n",
       "      <td>0</td>\n",
       "      <td>0</td>\n",
       "      <td>0</td>\n",
       "      <td>...</td>\n",
       "      <td>0</td>\n",
       "      <td>0</td>\n",
       "      <td>0</td>\n",
       "      <td>0</td>\n",
       "      <td>0</td>\n",
       "      <td>1</td>\n",
       "      <td>0</td>\n",
       "      <td>0</td>\n",
       "      <td>0</td>\n",
       "      <td>during the activity of chuteo of ore in hopper...</td>\n",
       "    </tr>\n",
       "    <tr>\n",
       "      <th>261</th>\n",
       "      <td>2016-12-01</td>\n",
       "      <td>I</td>\n",
       "      <td>IV</td>\n",
       "      <td>During the activity of chuteo of ore in hopper...</td>\n",
       "      <td>0</td>\n",
       "      <td>1</td>\n",
       "      <td>0</td>\n",
       "      <td>0</td>\n",
       "      <td>0</td>\n",
       "      <td>0</td>\n",
       "      <td>...</td>\n",
       "      <td>0</td>\n",
       "      <td>0</td>\n",
       "      <td>0</td>\n",
       "      <td>0</td>\n",
       "      <td>0</td>\n",
       "      <td>1</td>\n",
       "      <td>0</td>\n",
       "      <td>0</td>\n",
       "      <td>0</td>\n",
       "      <td>during the activity of chuteo of ore in hopper...</td>\n",
       "    </tr>\n",
       "    <tr>\n",
       "      <th>381</th>\n",
       "      <td>2017-05-06</td>\n",
       "      <td>IV</td>\n",
       "      <td>V</td>\n",
       "      <td>The employees Márcio and Sérgio performed the ...</td>\n",
       "      <td>3</td>\n",
       "      <td>0</td>\n",
       "      <td>1</td>\n",
       "      <td>0</td>\n",
       "      <td>0</td>\n",
       "      <td>0</td>\n",
       "      <td>...</td>\n",
       "      <td>0</td>\n",
       "      <td>0</td>\n",
       "      <td>0</td>\n",
       "      <td>0</td>\n",
       "      <td>0</td>\n",
       "      <td>0</td>\n",
       "      <td>0</td>\n",
       "      <td>1</td>\n",
       "      <td>0</td>\n",
       "      <td>the employees márcio and sérgio perform the pu...</td>\n",
       "    </tr>\n",
       "    <tr>\n",
       "      <th>382</th>\n",
       "      <td>2017-05-06</td>\n",
       "      <td>II</td>\n",
       "      <td>V</td>\n",
       "      <td>The employees Márcio and Sérgio performed the ...</td>\n",
       "      <td>1</td>\n",
       "      <td>0</td>\n",
       "      <td>1</td>\n",
       "      <td>0</td>\n",
       "      <td>0</td>\n",
       "      <td>0</td>\n",
       "      <td>...</td>\n",
       "      <td>0</td>\n",
       "      <td>0</td>\n",
       "      <td>0</td>\n",
       "      <td>0</td>\n",
       "      <td>0</td>\n",
       "      <td>0</td>\n",
       "      <td>0</td>\n",
       "      <td>1</td>\n",
       "      <td>0</td>\n",
       "      <td>the employees márcio and sérgio perform the pu...</td>\n",
       "    </tr>\n",
       "    <tr>\n",
       "      <th>405</th>\n",
       "      <td>2017-06-20</td>\n",
       "      <td>I</td>\n",
       "      <td>IV</td>\n",
       "      <td>In circumstance, the AHK-903 license plate (Em...</td>\n",
       "      <td>0</td>\n",
       "      <td>1</td>\n",
       "      <td>0</td>\n",
       "      <td>0</td>\n",
       "      <td>1</td>\n",
       "      <td>0</td>\n",
       "      <td>...</td>\n",
       "      <td>0</td>\n",
       "      <td>0</td>\n",
       "      <td>0</td>\n",
       "      <td>1</td>\n",
       "      <td>0</td>\n",
       "      <td>0</td>\n",
       "      <td>0</td>\n",
       "      <td>0</td>\n",
       "      <td>0</td>\n",
       "      <td>in circumstance , the ahk-903 license plate ( ...</td>\n",
       "    </tr>\n",
       "    <tr>\n",
       "      <th>406</th>\n",
       "      <td>2017-06-20</td>\n",
       "      <td>I</td>\n",
       "      <td>IV</td>\n",
       "      <td>In circumstance, the AHK-903 license plate (Em...</td>\n",
       "      <td>0</td>\n",
       "      <td>1</td>\n",
       "      <td>0</td>\n",
       "      <td>0</td>\n",
       "      <td>1</td>\n",
       "      <td>0</td>\n",
       "      <td>...</td>\n",
       "      <td>0</td>\n",
       "      <td>0</td>\n",
       "      <td>0</td>\n",
       "      <td>1</td>\n",
       "      <td>0</td>\n",
       "      <td>0</td>\n",
       "      <td>0</td>\n",
       "      <td>0</td>\n",
       "      <td>0</td>\n",
       "      <td>in circumstance , the ahk-903 license plate ( ...</td>\n",
       "    </tr>\n",
       "  </tbody>\n",
       "</table>\n",
       "<p>14 rows × 114 columns</p>\n",
       "</div>\n",
       "    <div class=\"colab-df-buttons\">\n",
       "\n",
       "  <div class=\"colab-df-container\">\n",
       "    <button class=\"colab-df-convert\" onclick=\"convertToInteractive('df-8b39db99-3588-41af-b889-c9979b0a48a3')\"\n",
       "            title=\"Convert this dataframe to an interactive table.\"\n",
       "            style=\"display:none;\">\n",
       "\n",
       "  <svg xmlns=\"http://www.w3.org/2000/svg\" height=\"24px\" viewBox=\"0 -960 960 960\">\n",
       "    <path d=\"M120-120v-720h720v720H120Zm60-500h600v-160H180v160Zm220 220h160v-160H400v160Zm0 220h160v-160H400v160ZM180-400h160v-160H180v160Zm440 0h160v-160H620v160ZM180-180h160v-160H180v160Zm440 0h160v-160H620v160Z\"/>\n",
       "  </svg>\n",
       "    </button>\n",
       "\n",
       "  <style>\n",
       "    .colab-df-container {\n",
       "      display:flex;\n",
       "      gap: 12px;\n",
       "    }\n",
       "\n",
       "    .colab-df-convert {\n",
       "      background-color: #E8F0FE;\n",
       "      border: none;\n",
       "      border-radius: 50%;\n",
       "      cursor: pointer;\n",
       "      display: none;\n",
       "      fill: #1967D2;\n",
       "      height: 32px;\n",
       "      padding: 0 0 0 0;\n",
       "      width: 32px;\n",
       "    }\n",
       "\n",
       "    .colab-df-convert:hover {\n",
       "      background-color: #E2EBFA;\n",
       "      box-shadow: 0px 1px 2px rgba(60, 64, 67, 0.3), 0px 1px 3px 1px rgba(60, 64, 67, 0.15);\n",
       "      fill: #174EA6;\n",
       "    }\n",
       "\n",
       "    .colab-df-buttons div {\n",
       "      margin-bottom: 4px;\n",
       "    }\n",
       "\n",
       "    [theme=dark] .colab-df-convert {\n",
       "      background-color: #3B4455;\n",
       "      fill: #D2E3FC;\n",
       "    }\n",
       "\n",
       "    [theme=dark] .colab-df-convert:hover {\n",
       "      background-color: #434B5C;\n",
       "      box-shadow: 0px 1px 3px 1px rgba(0, 0, 0, 0.15);\n",
       "      filter: drop-shadow(0px 1px 2px rgba(0, 0, 0, 0.3));\n",
       "      fill: #FFFFFF;\n",
       "    }\n",
       "  </style>\n",
       "\n",
       "    <script>\n",
       "      const buttonEl =\n",
       "        document.querySelector('#df-8b39db99-3588-41af-b889-c9979b0a48a3 button.colab-df-convert');\n",
       "      buttonEl.style.display =\n",
       "        google.colab.kernel.accessAllowed ? 'block' : 'none';\n",
       "\n",
       "      async function convertToInteractive(key) {\n",
       "        const element = document.querySelector('#df-8b39db99-3588-41af-b889-c9979b0a48a3');\n",
       "        const dataTable =\n",
       "          await google.colab.kernel.invokeFunction('convertToInteractive',\n",
       "                                                    [key], {});\n",
       "        if (!dataTable) return;\n",
       "\n",
       "        const docLinkHtml = 'Like what you see? Visit the ' +\n",
       "          '<a target=\"_blank\" href=https://colab.research.google.com/notebooks/data_table.ipynb>data table notebook</a>'\n",
       "          + ' to learn more about interactive tables.';\n",
       "        element.innerHTML = '';\n",
       "        dataTable['output_type'] = 'display_data';\n",
       "        await google.colab.output.renderOutput(dataTable, element);\n",
       "        const docLink = document.createElement('div');\n",
       "        docLink.innerHTML = docLinkHtml;\n",
       "        element.appendChild(docLink);\n",
       "      }\n",
       "    </script>\n",
       "  </div>\n",
       "\n",
       "\n",
       "<div id=\"df-1d20bfb2-b023-4b45-b02d-33195e21f5e8\">\n",
       "  <button class=\"colab-df-quickchart\" onclick=\"quickchart('df-1d20bfb2-b023-4b45-b02d-33195e21f5e8')\"\n",
       "            title=\"Suggest charts\"\n",
       "            style=\"display:none;\">\n",
       "\n",
       "<svg xmlns=\"http://www.w3.org/2000/svg\" height=\"24px\"viewBox=\"0 0 24 24\"\n",
       "     width=\"24px\">\n",
       "    <g>\n",
       "        <path d=\"M19 3H5c-1.1 0-2 .9-2 2v14c0 1.1.9 2 2 2h14c1.1 0 2-.9 2-2V5c0-1.1-.9-2-2-2zM9 17H7v-7h2v7zm4 0h-2V7h2v10zm4 0h-2v-4h2v4z\"/>\n",
       "    </g>\n",
       "</svg>\n",
       "  </button>\n",
       "\n",
       "<style>\n",
       "  .colab-df-quickchart {\n",
       "      --bg-color: #E8F0FE;\n",
       "      --fill-color: #1967D2;\n",
       "      --hover-bg-color: #E2EBFA;\n",
       "      --hover-fill-color: #174EA6;\n",
       "      --disabled-fill-color: #AAA;\n",
       "      --disabled-bg-color: #DDD;\n",
       "  }\n",
       "\n",
       "  [theme=dark] .colab-df-quickchart {\n",
       "      --bg-color: #3B4455;\n",
       "      --fill-color: #D2E3FC;\n",
       "      --hover-bg-color: #434B5C;\n",
       "      --hover-fill-color: #FFFFFF;\n",
       "      --disabled-bg-color: #3B4455;\n",
       "      --disabled-fill-color: #666;\n",
       "  }\n",
       "\n",
       "  .colab-df-quickchart {\n",
       "    background-color: var(--bg-color);\n",
       "    border: none;\n",
       "    border-radius: 50%;\n",
       "    cursor: pointer;\n",
       "    display: none;\n",
       "    fill: var(--fill-color);\n",
       "    height: 32px;\n",
       "    padding: 0;\n",
       "    width: 32px;\n",
       "  }\n",
       "\n",
       "  .colab-df-quickchart:hover {\n",
       "    background-color: var(--hover-bg-color);\n",
       "    box-shadow: 0 1px 2px rgba(60, 64, 67, 0.3), 0 1px 3px 1px rgba(60, 64, 67, 0.15);\n",
       "    fill: var(--button-hover-fill-color);\n",
       "  }\n",
       "\n",
       "  .colab-df-quickchart-complete:disabled,\n",
       "  .colab-df-quickchart-complete:disabled:hover {\n",
       "    background-color: var(--disabled-bg-color);\n",
       "    fill: var(--disabled-fill-color);\n",
       "    box-shadow: none;\n",
       "  }\n",
       "\n",
       "  .colab-df-spinner {\n",
       "    border: 2px solid var(--fill-color);\n",
       "    border-color: transparent;\n",
       "    border-bottom-color: var(--fill-color);\n",
       "    animation:\n",
       "      spin 1s steps(1) infinite;\n",
       "  }\n",
       "\n",
       "  @keyframes spin {\n",
       "    0% {\n",
       "      border-color: transparent;\n",
       "      border-bottom-color: var(--fill-color);\n",
       "      border-left-color: var(--fill-color);\n",
       "    }\n",
       "    20% {\n",
       "      border-color: transparent;\n",
       "      border-left-color: var(--fill-color);\n",
       "      border-top-color: var(--fill-color);\n",
       "    }\n",
       "    30% {\n",
       "      border-color: transparent;\n",
       "      border-left-color: var(--fill-color);\n",
       "      border-top-color: var(--fill-color);\n",
       "      border-right-color: var(--fill-color);\n",
       "    }\n",
       "    40% {\n",
       "      border-color: transparent;\n",
       "      border-right-color: var(--fill-color);\n",
       "      border-top-color: var(--fill-color);\n",
       "    }\n",
       "    60% {\n",
       "      border-color: transparent;\n",
       "      border-right-color: var(--fill-color);\n",
       "    }\n",
       "    80% {\n",
       "      border-color: transparent;\n",
       "      border-right-color: var(--fill-color);\n",
       "      border-bottom-color: var(--fill-color);\n",
       "    }\n",
       "    90% {\n",
       "      border-color: transparent;\n",
       "      border-bottom-color: var(--fill-color);\n",
       "    }\n",
       "  }\n",
       "</style>\n",
       "\n",
       "  <script>\n",
       "    async function quickchart(key) {\n",
       "      const quickchartButtonEl =\n",
       "        document.querySelector('#' + key + ' button');\n",
       "      quickchartButtonEl.disabled = true;  // To prevent multiple clicks.\n",
       "      quickchartButtonEl.classList.add('colab-df-spinner');\n",
       "      try {\n",
       "        const charts = await google.colab.kernel.invokeFunction(\n",
       "            'suggestCharts', [key], {});\n",
       "      } catch (error) {\n",
       "        console.error('Error during call to suggestCharts:', error);\n",
       "      }\n",
       "      quickchartButtonEl.classList.remove('colab-df-spinner');\n",
       "      quickchartButtonEl.classList.add('colab-df-quickchart-complete');\n",
       "    }\n",
       "    (() => {\n",
       "      let quickchartButtonEl =\n",
       "        document.querySelector('#df-1d20bfb2-b023-4b45-b02d-33195e21f5e8 button');\n",
       "      quickchartButtonEl.style.display =\n",
       "        google.colab.kernel.accessAllowed ? 'block' : 'none';\n",
       "    })();\n",
       "  </script>\n",
       "</div>\n",
       "\n",
       "    </div>\n",
       "  </div>\n"
      ],
      "text/plain": [
       "          Date Accident Level Potential Accident Level  \\\n",
       "37  2016-02-24              I                        V   \n",
       "38  2016-02-24              I                        V   \n",
       "129 2016-05-26              I                        I   \n",
       "130 2016-05-26              I                        I   \n",
       "142 2016-06-08              I                        I   \n",
       "143 2016-06-08              I                        I   \n",
       "165 2016-07-07             IV                        V   \n",
       "166 2016-07-07              I                       IV   \n",
       "260 2016-12-01              I                       IV   \n",
       "261 2016-12-01              I                       IV   \n",
       "381 2017-05-06             IV                        V   \n",
       "382 2017-05-06             II                        V   \n",
       "405 2017-06-20              I                       IV   \n",
       "406 2017-06-20              I                       IV   \n",
       "\n",
       "                                           Description  encoded_accident  \\\n",
       "37   When starting the activity of removing a coil ...                 0   \n",
       "38   When starting the activity of removing a coil ...                 0   \n",
       "129  In the geological reconnaissance activity, in ...                 0   \n",
       "130  In the geological reconnaissance activity, in ...                 0   \n",
       "142  Project of Vazante that carried out sediment c...                 0   \n",
       "143  Project of Vazante that carried out sediment c...                 0   \n",
       "165  At moments when the MAPERU truck of plate F1T ...                 3   \n",
       "166  At moments when the MAPERU truck of plate F1T ...                 0   \n",
       "260  During the activity of chuteo of ore in hopper...                 0   \n",
       "261  During the activity of chuteo of ore in hopper...                 0   \n",
       "381  The employees Márcio and Sérgio performed the ...                 3   \n",
       "382  The employees Márcio and Sérgio performed the ...                 1   \n",
       "405  In circumstance, the AHK-903 license plate (Em...                 0   \n",
       "406  In circumstance, the AHK-903 license plate (Em...                 0   \n",
       "\n",
       "     Countries_Country_01  Countries_Country_02  Countries_Country_03  \\\n",
       "37                      0                     1                     0   \n",
       "38                      0                     1                     0   \n",
       "129                     0                     0                     1   \n",
       "130                     0                     0                     1   \n",
       "142                     0                     0                     1   \n",
       "143                     0                     0                     1   \n",
       "165                     1                     0                     0   \n",
       "166                     1                     0                     0   \n",
       "260                     1                     0                     0   \n",
       "261                     1                     0                     0   \n",
       "381                     0                     1                     0   \n",
       "382                     0                     1                     0   \n",
       "405                     1                     0                     0   \n",
       "406                     1                     0                     0   \n",
       "\n",
       "     Local_Local_01  Local_Local_02  ...  Day_30  Day_31  Weekday_0  \\\n",
       "37                0               0  ...       0       0          0   \n",
       "38                0               0  ...       0       0          0   \n",
       "129               0               0  ...       0       0          0   \n",
       "130               0               0  ...       0       0          0   \n",
       "142               0               0  ...       0       0          0   \n",
       "143               0               0  ...       0       0          0   \n",
       "165               0               0  ...       0       0          0   \n",
       "166               0               0  ...       0       0          0   \n",
       "260               0               0  ...       0       0          0   \n",
       "261               0               0  ...       0       0          0   \n",
       "381               0               0  ...       0       0          0   \n",
       "382               0               0  ...       0       0          0   \n",
       "405               1               0  ...       0       0          0   \n",
       "406               1               0  ...       0       0          0   \n",
       "\n",
       "     Weekday_1  Weekday_2  Weekday_3  Weekday_4  Weekday_5  Weekday_6  \\\n",
       "37           0          1          0          0          0          0   \n",
       "38           0          1          0          0          0          0   \n",
       "129          0          0          1          0          0          0   \n",
       "130          0          0          1          0          0          0   \n",
       "142          0          1          0          0          0          0   \n",
       "143          0          1          0          0          0          0   \n",
       "165          0          0          1          0          0          0   \n",
       "166          0          0          1          0          0          0   \n",
       "260          0          0          1          0          0          0   \n",
       "261          0          0          1          0          0          0   \n",
       "381          0          0          0          0          1          0   \n",
       "382          0          0          0          0          1          0   \n",
       "405          1          0          0          0          0          0   \n",
       "406          1          0          0          0          0          0   \n",
       "\n",
       "                                  cleansed_description  \n",
       "37   when start the activity of remove a coil of el...  \n",
       "38   when start the activity of remove a coil of el...  \n",
       "129  in the geological reconnaissance activity , in...  \n",
       "130  in the geological reconnaissance activity , in...  \n",
       "142  project of vazante that carry out sediment col...  \n",
       "143  project of vazante that carry out sediment col...  \n",
       "165  at moments when the maperu truck of plate f1t ...  \n",
       "166  at moments when the maperu truck of plate f1t ...  \n",
       "260  during the activity of chuteo of ore in hopper...  \n",
       "261  during the activity of chuteo of ore in hopper...  \n",
       "381  the employees márcio and sérgio perform the pu...  \n",
       "382  the employees márcio and sérgio perform the pu...  \n",
       "405  in circumstance , the ahk-903 license plate ( ...  \n",
       "406  in circumstance , the ahk-903 license plate ( ...  \n",
       "\n",
       "[14 rows x 114 columns]"
      ]
     },
     "execution_count": 91,
     "metadata": {},
     "output_type": "execute_result"
    }
   ],
   "source": [
    "print(\"There are\",df_nodup.duplicated(keep=False,subset=[\"Description\"]).sum(),\"records with same description\")\n",
    "df_nodup[df_nodup.duplicated(keep=False,subset=[\"Description\"])]"
   ]
  },
  {
   "cell_type": "code",
   "execution_count": 92,
   "metadata": {
    "colab": {
     "base_uri": "https://localhost:8080/"
    },
    "id": "e5DwwXG5EQP2",
    "outputId": "b9a822cc-09a7-44fe-de6a-3b11b8dc27ce"
   },
   "outputs": [
    {
     "name": "stdout",
     "output_type": "stream",
     "text": [
      "(418, 114)\n",
      "(416, 114)\n"
     ]
    }
   ],
   "source": [
    "print(df_nodup.shape)\n",
    "indices_to_drop = [166, 382]\n",
    "df_nodup = df_nodup.drop(indices_to_drop, axis=0)\n",
    "df_nodup.reset_index(drop=True,inplace=True)\n",
    "print(df_nodup.shape)"
   ]
  },
  {
   "cell_type": "markdown",
   "metadata": {
    "id": "Aegw6w83XC3_"
   },
   "source": [
    "# Modeling data preparation"
   ]
  },
  {
   "cell_type": "markdown",
   "metadata": {
    "id": "fGaq-mDmxWXE"
   },
   "source": [
    "## Train Test split"
   ]
  },
  {
   "cell_type": "code",
   "execution_count": 93,
   "metadata": {
    "colab": {
     "base_uri": "https://localhost:8080/"
    },
    "id": "R3pGG6SJQqRD",
    "outputId": "e4c438f3-59dc-441c-8397-49632c1c01d6"
   },
   "outputs": [
    {
     "name": "stdout",
     "output_type": "stream",
     "text": [
      "Train value counts\n",
      "0    74.0\n",
      "1     9.0\n",
      "2     8.0\n",
      "3     7.0\n",
      "4     2.0\n",
      "Name: encoded_accident, dtype: float64 2\n",
      "***************\n",
      "Test value counts\n",
      "0    74.0\n",
      "1    10.0\n",
      "3     7.0\n",
      "2     7.0\n",
      "4     2.0\n",
      "Name: encoded_accident, dtype: float64 2\n"
     ]
    }
   ],
   "source": [
    "vars_to_drop=['Date','Description','encoded_accident','Accident Level', 'Potential Accident Level']\n",
    "x=df_nodup.drop(vars_to_drop,axis=1)\n",
    "y=df_nodup['encoded_accident']\n",
    "test_split=0.2\n",
    "train_x,test_x,train_y,test_y=  train_test_split(x,y,test_size=test_split,random_state=1,stratify=y)\n",
    "# Reset the index of both DataFrames to ensure alignment\n",
    "train_y_reset = train_y.reset_index(drop=True)\n",
    "train_x_reset = train_x.reset_index(drop=True)\n",
    "print(\"Train value counts\")\n",
    "print(round((train_y.value_counts(normalize=True))*100),2)\n",
    "print(\"***************\")\n",
    "print(\"Test value counts\")\n",
    "print(round((test_y.value_counts(normalize=True))*100),2)\n"
   ]
  },
  {
   "cell_type": "markdown",
   "metadata": {
    "id": "VRi6DfNPXQUw"
   },
   "source": [
    "## Vectorization"
   ]
  },
  {
   "cell_type": "code",
   "execution_count": 94,
   "metadata": {
    "colab": {
     "base_uri": "https://localhost:8080/",
     "height": 0
    },
    "id": "xAMlOveM5tTz",
    "outputId": "ac4db820-311f-4f32-e907-fe17e26ab457"
   },
   "outputs": [
    {
     "name": "stdout",
     "output_type": "stream",
     "text": [
      "Mean length of description in the data: 359\n",
      "90th percentile length of description in the data: 600\n",
      "max length of descritption in the data: 992\n"
     ]
    },
    {
     "data": {
      "image/png": "[encoded data removed]",
      "text/plain": [
       "<Figure size 1000x600 with 1 Axes>"
      ]
     },
     "metadata": {},
     "output_type": "display_data"
    },
    {
     "data": {
      "text/plain": [
       "array([  13,   97,    1,   98,  162,    2,    1,  622,   75,   81,    1,\n",
       "         19,   47,   12,   20,   18,  105,  200,    1,   37, 1355,    2,\n",
       "          1,  153,  127,    7,  407,   27,    0,    0,    0,    0,    0,\n",
       "          0,    0,    0,    0,    0,    0,    0,    0,    0,    0,    0,\n",
       "          0,    0,    0,    0,    0,    0,    0,    0,    0,    0,    0,\n",
       "          0,    0,    0,    0,    0,    0,    0,    0,    0,    0,    0,\n",
       "          0,    0,    0,    0,    0,    0,    0,    0,    0,    0,    0,\n",
       "          0,    0,    0,    0,    0,    0,    0,    0,    0,    0,    0,\n",
       "          0,    0,    0,    0,    0,    0,    0,    0,    0,    0,    0,\n",
       "          0,    0,    0,    0,    0,    0,    0,    0,    0,    0,    0,\n",
       "          0,    0,    0,    0,    0,    0,    0,    0,    0,    0,    0,\n",
       "          0,    0,    0,    0,    0,    0,    0,    0,    0,    0,    0,\n",
       "          0,    0,    0,    0,    0,    0,    0,    0,    0,    0,    0,\n",
       "          0,    0,    0,    0,    0,    0,    0,    0,    0,    0,    0,\n",
       "          0,    0,    0,    0,    0,    0,    0,    0,    0,    0,    0,\n",
       "          0,    0,    0,    0,    0,    0,    0,    0,    0,    0,    0,\n",
       "          0,    0,    0,    0,    0,    0,    0,    0,    0,    0,    0,\n",
       "          0,    0,    0,    0,    0,    0,    0,    0,    0,    0,    0,\n",
       "          0,    0,    0,    0,    0,    0,    0,    0,    0,    0,    0,\n",
       "          0,    0,    0,    0,    0,    0,    0,    0,    0,    0,    0,\n",
       "          0,    0,    0,    0,    0,    0,    0,    0,    0,    0,    0,\n",
       "          0,    0,    0,    0,    0,    0,    0,    0,    0,    0,    0,\n",
       "          0,    0,    0,    0,    0,    0,    0,    0,    0,    0,    0,\n",
       "          0,    0,    0,    0,    0,    0,    0,    0,    0,    0,    0,\n",
       "          0,    0,    0,    0,    0,    0,    0,    0,    0,    0,    0,\n",
       "          0,    0,    0,    0,    0,    0,    0,    0,    0,    0,    0,\n",
       "          0,    0,    0,    0,    0,    0,    0,    0,    0,    0,    0,\n",
       "          0,    0,    0,    0,    0,    0,    0,    0,    0,    0,    0,\n",
       "          0,    0,    0,    0,    0,    0,    0,    0,    0,    0,    0,\n",
       "          0,    0,    0,    0,    0,    0,    0,    0,    0,    0,    0,\n",
       "          0,    0,    0,    0,    0,    0,    0,    0,    0,    0,    0,\n",
       "          0,    0,    0,    0,    0,    0,    0,    0,    0,    0,    0,\n",
       "          0,    0,    0,    0,    0,    0,    0], dtype=int32)"
      ]
     },
     "execution_count": 94,
     "metadata": {},
     "output_type": "execute_result"
    }
   ],
   "source": [
    "# Initialize the Tokenizer:\n",
    "# Tokenizer is a class from Keras used to convert text into sequences of integers, where each integer\n",
    "# represents a specific word. This is necessary for neural networks to process textual data.\n",
    "tokenizer = Tokenizer()\n",
    "\n",
    "# Fit the tokenizer on the training data:\n",
    "# This step updates the tokenizer's internal vocabulary based on the text it sees in the training data.\n",
    "tokenizer.fit_on_texts(train_x_reset['cleansed_description'])\n",
    "\n",
    "# Check the length of each description and append it to a list\n",
    "lengths_all_description = []\n",
    "for description in train_x_reset['cleansed_description']:\n",
    "    length = len(description)\n",
    "    lengths_all_description.append(length)\n",
    "\n",
    "# Explore the length among all headlines\n",
    "mean_len=round(np.mean(lengths_all_description))\n",
    "perc90_len = round(np.percentile(lengths_all_description,90))\n",
    "max_len=max(lengths_all_description)\n",
    "print(\"Mean length of description in the data:\", mean_len)\n",
    "print(\"90th percentile length of description in the data:\", perc90_len)\n",
    "print(\"max length of descritption in the data:\", max_len)\n",
    "\n",
    "max_sequence_length=mean_len\n",
    "\n",
    "# Plotting the histogram using Seaborn\n",
    "plt.figure(figsize=(10, 6))\n",
    "sns.histplot(lengths_all_description, bins=50, kde=True, color='skyblue', edgecolor='black')\n",
    "plt.title('Distribution of description Lengths')\n",
    "plt.xlabel('Length of description')\n",
    "plt.ylabel('Number of description')\n",
    "plt.axvline(perc90_len, color='green', linestyle='dashed', linewidth=1)  # Mark the 90th percentile\n",
    "plt.text(perc90_len + 1, plt.ylim()[1] * 0.9, f'90th percentile: {perc90_len}', color = 'green')\n",
    "plt.axvline(max_len, color='red', linestyle='dashed', linewidth=1)  # Mark the max\n",
    "plt.text(max_len + 1, plt.ylim()[1] * 0.9, f'max: {max_len}', color = 'red')\n",
    "\n",
    "plt.show()\n",
    "# Convert text to sequences of integers for both training and testing data:\n",
    "tokenized_sequence_train = tokenizer.texts_to_sequences(train_x_reset['cleansed_description'].tolist())\n",
    "tokenized_sequence_test = tokenizer.texts_to_sequences(test_x['cleansed_description'].tolist())\n",
    "\n",
    "# Pad the sequences:\n",
    "# This ensures all sequences in a list have the same length by padding them with zeros (by default) where necessary.\n",
    "padded_sequence_train = pad_sequences(tokenized_sequence_train, maxlen=max_sequence_length,padding='post')\n",
    "padded_sequence_test = pad_sequences(tokenized_sequence_test, maxlen=max_sequence_length,padding='post')\n",
    "padded_sequence_train[0]"
   ]
  },
  {
   "cell_type": "markdown",
   "metadata": {
    "id": "D6Fqt120Ic3D"
   },
   "source": [
    "## Categorical data"
   ]
  },
  {
   "cell_type": "code",
   "execution_count": 95,
   "metadata": {
    "id": "8pa_3bA-pxUZ"
   },
   "outputs": [],
   "source": [
    "train_categorical_data=train_x_reset.drop(['cleansed_description'],axis=1)\n",
    "test_categorical_data=test_x.drop(['cleansed_description'],axis=1)"
   ]
  },
  {
   "cell_type": "markdown",
   "metadata": {
    "id": "Qf-Mw_qA7avN"
   },
   "source": [
    "## Y variable encoding"
   ]
  },
  {
   "cell_type": "code",
   "execution_count": 96,
   "metadata": {
    "id": "n6_SkaY670EJ"
   },
   "outputs": [],
   "source": [
    "y_train_encoded=to_categorical(train_y)\n",
    "y_test_encoded=to_categorical(test_y)"
   ]
  },
  {
   "cell_type": "markdown",
   "metadata": {
    "id": "Rc5EA3y0wh8m"
   },
   "source": [
    "## Over and Undersampling"
   ]
  },
  {
   "cell_type": "code",
   "execution_count": 97,
   "metadata": {
    "colab": {
     "base_uri": "https://localhost:8080/"
    },
    "id": "49PMgvRkORIQ",
    "outputId": "1a39e9f9-01bb-487f-e5d1-8818af2aa9e3"
   },
   "outputs": [
    {
     "name": "stdout",
     "output_type": "stream",
     "text": [
      "0    246\n",
      "1     31\n",
      "2     25\n",
      "3     24\n",
      "4      6\n",
      "Name: encoded_accident, dtype: int64\n"
     ]
    }
   ],
   "source": [
    "print(train_y.value_counts())"
   ]
  },
  {
   "cell_type": "code",
   "execution_count": 98,
   "metadata": {
    "id": "wsbKZ8jdC8mc"
   },
   "outputs": [],
   "source": [
    "smote = SMOTE()\n",
    "sampling_strategy = {0: 200, 1: 31, 2: 24,3:24,4:6}\n",
    "rus = RandomUnderSampler(sampling_strategy=sampling_strategy,random_state=42)"
   ]
  },
  {
   "cell_type": "markdown",
   "metadata": {
    "id": "RTs-0LcoClz4"
   },
   "source": [
    "### On text data only"
   ]
  },
  {
   "cell_type": "code",
   "execution_count": 99,
   "metadata": {
    "colab": {
     "base_uri": "https://localhost:8080/"
    },
    "id": "85aNrzL1CxR6",
    "outputId": "1e481196-ac54-4868-99f7-c2840b2686cb"
   },
   "outputs": [
    {
     "name": "stdout",
     "output_type": "stream",
     "text": [
      "0    200\n",
      "1    200\n",
      "2    200\n",
      "3    200\n",
      "4    200\n",
      "Name: encoded_accident, dtype: int64\n"
     ]
    }
   ],
   "source": [
    "x_resampled, y_resampled = rus.fit_resample(padded_sequence_train, train_y_reset)\n",
    "x_resampled, y_resampled = smote.fit_resample(x_resampled, y_resampled)\n",
    "# x_resampled, y_resampled = smote.fit_resample(padded_sequence_train, train_y_reset)\n",
    "y_train_encoded_resampled=to_categorical(y_resampled)\n",
    "print(y_resampled.value_counts())"
   ]
  },
  {
   "cell_type": "markdown",
   "metadata": {
    "id": "cx7oEnnazKfQ"
   },
   "source": [
    "### Text and categorical data both"
   ]
  },
  {
   "cell_type": "code",
   "execution_count": 100,
   "metadata": {
    "id": "G6wae1QPyvSd"
   },
   "outputs": [],
   "source": [
    "x_train_combined = np.hstack((padded_sequence_train, train_categorical_data))"
   ]
  },
  {
   "cell_type": "code",
   "execution_count": 101,
   "metadata": {
    "id": "7Z3gtF6lIRHy"
   },
   "outputs": [],
   "source": [
    "# Create an instance of the SMOTE class and random undersampler class\n",
    "x_resampled_co, y_resampled_co = rus.fit_resample(x_train_combined, train_y_reset)\n",
    "x_resampled_co, y_resampled_co = smote.fit_resample(x_resampled_co, y_resampled_co)\n",
    "y_resampled_encoded = to_categorical(y_resampled_co)\n",
    "\n",
    "# Separate the resampled data back into text and categorical features\n",
    "max_text_length = max_sequence_length\n",
    "num_categorical_features = train_categorical_data.shape[1]\n",
    "\n",
    "padded_sequence_resampled = x_resampled_co[:, :max_text_length]\n",
    "categorical_data_resampled = x_resampled_co[:, max_text_length:max_text_length + num_categorical_features]"
   ]
  },
  {
   "cell_type": "markdown",
   "metadata": {
    "id": "559KZXpL4e94"
   },
   "source": [
    "# Model building"
   ]
  },
  {
   "cell_type": "markdown",
   "metadata": {
    "id": "dsf98QRUWZWc"
   },
   "source": [
    "## Model Hyperparameters"
   ]
  },
  {
   "cell_type": "markdown",
   "metadata": {
    "id": "xH1cvXViXybD"
   },
   "source": [
    "### Class weights"
   ]
  },
  {
   "cell_type": "code",
   "execution_count": 102,
   "metadata": {
    "id": "LEmOTCfdXFau"
   },
   "outputs": [],
   "source": [
    "class_weights = compute_class_weight(class_weight='balanced', classes=np.unique(train_y), y=train_y)\n",
    "class_weights_dict = dict(enumerate(class_weights))"
   ]
  },
  {
   "cell_type": "markdown",
   "metadata": {
    "id": "3dOv8PlBZD3L"
   },
   "source": [
    "### Embedding size"
   ]
  },
  {
   "cell_type": "code",
   "execution_count": 103,
   "metadata": {
    "id": "2_2ORHS3ZDAv"
   },
   "outputs": [],
   "source": [
    "embedding_size=10"
   ]
  },
  {
   "cell_type": "markdown",
   "metadata": {
    "id": "yZhFejpxYF4p"
   },
   "source": [
    "### Pre trained word embedding - Word2Vec"
   ]
  },
  {
   "cell_type": "code",
   "execution_count": 104,
   "metadata": {
    "id": "D4JIC1dHZSVM"
   },
   "outputs": [],
   "source": [
    "embedding_dim = 300  # Dimension of the Google News Word2Vec vectors\n",
    "vocab_size = len(tokenizer.word_index) + 1  # Adding 1 because of reserved 0 index\n",
    "embedding_matrix = np.zeros((vocab_size, embedding_dim))\n",
    "for word, i in tokenizer.word_index.items():\n",
    "    if word in word_vectors.key_to_index:\n",
    "        # Words not found in the embedding index will be all zeros.\n",
    "        embedding_matrix[i] = word_vectors[word]"
   ]
  },
  {
   "cell_type": "markdown",
   "metadata": {
    "id": "licfZ-vCrZZm"
   },
   "source": [
    "## ANN with cleansed description only"
   ]
  },
  {
   "cell_type": "code",
   "execution_count": 105,
   "metadata": {
    "id": "7wrQBH6LWWn_"
   },
   "outputs": [],
   "source": [
    "import random as python_random\n",
    "def reset_random_seeds(seed_value=42):\n",
    "   python_random.seed(seed_value)\n",
    "   np.random.seed(seed_value)\n",
    "   tf.random.set_seed(seed_value)"
   ]
  },
  {
   "cell_type": "code",
   "execution_count": 106,
   "metadata": {
    "colab": {
     "base_uri": "https://localhost:8080/"
    },
    "id": "ZwRAclNmrruk",
    "outputId": "35c1c45b-7339-439d-ad8a-19748fece9f9"
   },
   "outputs": [
    {
     "name": "stdout",
     "output_type": "stream",
     "text": [
      "Model: \"sequential\"\n",
      "_________________________________________________________________\n",
      " Layer (type)                Output Shape              Param #   \n",
      "=================================================================\n",
      " dense (Dense)               (None, 64)                23040     \n",
      "                                                                 \n",
      " batch_normalization (Batch  (None, 64)                256       \n",
      " Normalization)                                                  \n",
      "                                                                 \n",
      " dense_1 (Dense)             (None, 64)                4160      \n",
      "                                                                 \n",
      " batch_normalization_1 (Bat  (None, 64)                256       \n",
      " chNormalization)                                                \n",
      "                                                                 \n",
      " dense_2 (Dense)             (None, 64)                4160      \n",
      "                                                                 \n",
      " batch_normalization_2 (Bat  (None, 64)                256       \n",
      " chNormalization)                                                \n",
      "                                                                 \n",
      " dense_3 (Dense)             (None, 5)                 325       \n",
      "                                                                 \n",
      "=================================================================\n",
      "Total params: 32453 (126.77 KB)\n",
      "Trainable params: 32069 (125.27 KB)\n",
      "Non-trainable params: 384 (1.50 KB)\n",
      "_________________________________________________________________\n"
     ]
    }
   ],
   "source": [
    "tf.keras.backend.clear_session()\n",
    "reset_random_seeds()\n",
    "ann_model=Sequential()\n",
    "ann_model.add(Dense(64,activation='relu',input_shape=(max_sequence_length,)))\n",
    "ann_model.add(BatchNormalization())\n",
    "ann_model.add(Dense(64,activation='relu'))\n",
    "ann_model.add(BatchNormalization())\n",
    "ann_model.add(Dense(64,activation='relu'))\n",
    "ann_model.add(BatchNormalization())\n",
    "ann_model.add(Dense(5,activation='softmax'))\n",
    "ann_model.compile(optimizer=Adam(learning_rate=0.01),loss='categorical_crossentropy',metrics=['accuracy'])\n",
    "ann_model.summary()"
   ]
  },
  {
   "cell_type": "code",
   "execution_count": 107,
   "metadata": {
    "colab": {
     "base_uri": "https://localhost:8080/"
    },
    "id": "wNjZNvW4diT3",
    "outputId": "10bb497f-b1e3-4f3c-a1ea-8483f5a7379c"
   },
   "outputs": [
    {
     "name": "stdout",
     "output_type": "stream",
     "text": [
      "Epoch 1/20\n",
      "15/15 [==============================] - 2s 23ms/step - loss: 1.9240 - accuracy: 0.1853 - val_loss: 3.7112 - val_accuracy: 0.5300\n",
      "Epoch 2/20\n",
      "15/15 [==============================] - 0s 9ms/step - loss: 1.0595 - accuracy: 0.3362 - val_loss: 3.5471 - val_accuracy: 0.3700\n",
      "Epoch 3/20\n",
      "15/15 [==============================] - 0s 16ms/step - loss: 0.6583 - accuracy: 0.4181 - val_loss: 3.1666 - val_accuracy: 0.1700\n",
      "Epoch 4/20\n",
      "15/15 [==============================] - 1s 43ms/step - loss: 0.4789 - accuracy: 0.5603 - val_loss: 2.3515 - val_accuracy: 0.3100\n",
      "Epoch 5/20\n",
      "15/15 [==============================] - 0s 23ms/step - loss: 0.2973 - accuracy: 0.7026 - val_loss: 2.6563 - val_accuracy: 0.3700\n",
      "Epoch 6/20\n",
      "15/15 [==============================] - 0s 22ms/step - loss: 0.2120 - accuracy: 0.8017 - val_loss: 2.3741 - val_accuracy: 0.4500\n",
      "Epoch 7/20\n",
      "15/15 [==============================] - 0s 28ms/step - loss: 0.1805 - accuracy: 0.8879 - val_loss: 2.2007 - val_accuracy: 0.4900\n",
      "Epoch 8/20\n",
      "15/15 [==============================] - 0s 19ms/step - loss: 0.1205 - accuracy: 0.9267 - val_loss: 2.2998 - val_accuracy: 0.5300\n",
      "Epoch 9/20\n",
      "15/15 [==============================] - 0s 22ms/step - loss: 0.1547 - accuracy: 0.9052 - val_loss: 2.5159 - val_accuracy: 0.4900\n",
      "Epoch 10/20\n",
      "15/15 [==============================] - 1s 47ms/step - loss: 0.1850 - accuracy: 0.8836 - val_loss: 2.9154 - val_accuracy: 0.4700\n",
      "Epoch 11/20\n",
      "15/15 [==============================] - 0s 33ms/step - loss: 0.1151 - accuracy: 0.8879 - val_loss: 3.1362 - val_accuracy: 0.4500\n",
      "Epoch 12/20\n",
      "15/15 [==============================] - 1s 34ms/step - loss: 0.1437 - accuracy: 0.8750 - val_loss: 2.9324 - val_accuracy: 0.4500\n",
      "Epoch 13/20\n",
      "15/15 [==============================] - 1s 37ms/step - loss: 0.1123 - accuracy: 0.9267 - val_loss: 3.1194 - val_accuracy: 0.4600\n",
      "Epoch 14/20\n",
      "15/15 [==============================] - 0s 15ms/step - loss: 0.1110 - accuracy: 0.9267 - val_loss: 3.0368 - val_accuracy: 0.4500\n",
      "Epoch 15/20\n",
      "15/15 [==============================] - 0s 13ms/step - loss: 0.0964 - accuracy: 0.9181 - val_loss: 3.2827 - val_accuracy: 0.4600\n",
      "Epoch 16/20\n",
      "15/15 [==============================] - 0s 20ms/step - loss: 0.1461 - accuracy: 0.9224 - val_loss: 3.2597 - val_accuracy: 0.4600\n",
      "Epoch 17/20\n",
      "15/15 [==============================] - 0s 24ms/step - loss: 0.1366 - accuracy: 0.9052 - val_loss: 3.8357 - val_accuracy: 0.5000\n",
      "Epoch 18/20\n",
      "15/15 [==============================] - 0s 17ms/step - loss: 0.1794 - accuracy: 0.8966 - val_loss: 3.8248 - val_accuracy: 0.4800\n",
      "Epoch 19/20\n",
      "15/15 [==============================] - 0s 14ms/step - loss: 0.2571 - accuracy: 0.8879 - val_loss: 4.5574 - val_accuracy: 0.4100\n",
      "Epoch 20/20\n",
      "15/15 [==============================] - 0s 16ms/step - loss: 0.2096 - accuracy: 0.8319 - val_loss: 4.3524 - val_accuracy: 0.4000\n"
     ]
    },
    {
     "data": {
      "text/plain": [
       "<keras.src.callbacks.History at 0x7fd2adf89180>"
      ]
     },
     "execution_count": 107,
     "metadata": {},
     "output_type": "execute_result"
    }
   ],
   "source": [
    "ann_model.fit(padded_sequence_train,y_train_encoded, epochs=20, batch_size=16,class_weight=class_weights_dict, validation_split=0.3)"
   ]
  },
  {
   "cell_type": "code",
   "execution_count": 108,
   "metadata": {
    "colab": {
     "base_uri": "https://localhost:8080/"
    },
    "id": "5L7iSds-d8DI",
    "outputId": "7f5e9e8a-f440-4b70-a244-3d10146f1db5"
   },
   "outputs": [
    {
     "name": "stdout",
     "output_type": "stream",
     "text": [
      "3/3 [==============================] - 0s 6ms/step\n",
      "              precision    recall  f1-score   support\n",
      "\n",
      "           0       0.74      0.73      0.73        62\n",
      "           1       0.25      0.25      0.25         8\n",
      "           2       0.00      0.00      0.00         6\n",
      "           3       0.17      0.17      0.17         6\n",
      "           4       0.00      0.00      0.00         2\n",
      "\n",
      "    accuracy                           0.57        84\n",
      "   macro avg       0.23      0.23      0.23        84\n",
      "weighted avg       0.58      0.57      0.58        84\n",
      "\n"
     ]
    }
   ],
   "source": [
    "# Predict the class probabilities for the test set using the trained model.\n",
    "pred_test_ann = ann_model.predict(padded_sequence_test)\n",
    "\n",
    "# Convert the predicted probabilities into class labels.\n",
    "# The 'argmax' function is used here to select the class with the highest probability as the predicted class.\n",
    "y_pred_classes_ann = pred_test_ann.argmax(axis=1)\n",
    "\n",
    "# Generate a classification report by comparing the true class labels of the test set ('test_y')\n",
    "# with the predicted class labels ('y_pred_classes').\n",
    "report_ann = classification_report(test_y, y_pred_classes_ann)\n",
    "\n",
    "# Print the classification report to review the model's performance on the test set.\n",
    "print(report_ann)"
   ]
  },
  {
   "cell_type": "markdown",
   "metadata": {
    "id": "zeK7tp93Wdm2"
   },
   "source": [
    "## ANN with cleansed description only + resampled Train data"
   ]
  },
  {
   "cell_type": "code",
   "execution_count": 109,
   "metadata": {
    "colab": {
     "base_uri": "https://localhost:8080/"
    },
    "id": "JBw0t6FRWnTn",
    "outputId": "e726f885-b8de-4866-b912-ab8098625133"
   },
   "outputs": [
    {
     "name": "stdout",
     "output_type": "stream",
     "text": [
      "Model: \"sequential\"\n",
      "_________________________________________________________________\n",
      " Layer (type)                Output Shape              Param #   \n",
      "=================================================================\n",
      " dense (Dense)               (None, 64)                23040     \n",
      "                                                                 \n",
      " batch_normalization (Batch  (None, 64)                256       \n",
      " Normalization)                                                  \n",
      "                                                                 \n",
      " dense_1 (Dense)             (None, 64)                4160      \n",
      "                                                                 \n",
      " batch_normalization_1 (Bat  (None, 64)                256       \n",
      " chNormalization)                                                \n",
      "                                                                 \n",
      " dense_2 (Dense)             (None, 64)                4160      \n",
      "                                                                 \n",
      " batch_normalization_2 (Bat  (None, 64)                256       \n",
      " chNormalization)                                                \n",
      "                                                                 \n",
      " dense_3 (Dense)             (None, 5)                 325       \n",
      "                                                                 \n",
      "=================================================================\n",
      "Total params: 32453 (126.77 KB)\n",
      "Trainable params: 32069 (125.27 KB)\n",
      "Non-trainable params: 384 (1.50 KB)\n",
      "_________________________________________________________________\n"
     ]
    }
   ],
   "source": [
    "tf.keras.backend.clear_session()\n",
    "reset_random_seeds()\n",
    "ann_model_resampled=Sequential()\n",
    "ann_model_resampled.add(Dense(64,activation='relu',input_shape=(max_sequence_length,)))\n",
    "ann_model_resampled.add(BatchNormalization())\n",
    "ann_model_resampled.add(Dense(64,activation='relu'))\n",
    "ann_model_resampled.add(BatchNormalization())\n",
    "ann_model_resampled.add(Dense(64,activation='relu'))\n",
    "ann_model_resampled.add(BatchNormalization())\n",
    "ann_model_resampled.add(Dense(5,activation='softmax'))\n",
    "ann_model_resampled.compile(optimizer=Adam(learning_rate=0.01),loss='categorical_crossentropy',metrics=['accuracy'])\n",
    "ann_model_resampled.summary()"
   ]
  },
  {
   "cell_type": "code",
   "execution_count": 110,
   "metadata": {
    "colab": {
     "base_uri": "https://localhost:8080/"
    },
    "id": "b3rxJchlXJHq",
    "outputId": "dca3427c-ab0a-4e16-ee16-a38b799093c2"
   },
   "outputs": [
    {
     "name": "stdout",
     "output_type": "stream",
     "text": [
      "Epoch 1/5\n",
      "44/44 [==============================] - 4s 19ms/step - loss: 1.0537 - accuracy: 0.6171 - val_loss: 3.2202 - val_accuracy: 0.3333\n",
      "Epoch 2/5\n",
      "44/44 [==============================] - 0s 11ms/step - loss: 0.4718 - accuracy: 0.8543 - val_loss: 0.7938 - val_accuracy: 0.5767\n",
      "Epoch 3/5\n",
      "44/44 [==============================] - 0s 11ms/step - loss: 0.3406 - accuracy: 0.8743 - val_loss: 1.2731 - val_accuracy: 0.4133\n",
      "Epoch 4/5\n",
      "44/44 [==============================] - 1s 15ms/step - loss: 0.2791 - accuracy: 0.9029 - val_loss: 0.8263 - val_accuracy: 0.6167\n",
      "Epoch 5/5\n",
      "44/44 [==============================] - 1s 27ms/step - loss: 0.2485 - accuracy: 0.8971 - val_loss: 0.6766 - val_accuracy: 0.8333\n"
     ]
    },
    {
     "data": {
      "text/plain": [
       "<keras.src.callbacks.History at 0x7fd0bc29c430>"
      ]
     },
     "execution_count": 110,
     "metadata": {},
     "output_type": "execute_result"
    }
   ],
   "source": [
    "ann_model_resampled.fit(x_resampled,y_train_encoded_resampled, epochs=5, batch_size=16, validation_split=0.3)"
   ]
  },
  {
   "cell_type": "code",
   "execution_count": 111,
   "metadata": {
    "colab": {
     "base_uri": "https://localhost:8080/"
    },
    "id": "h7KvmWSZXJu7",
    "outputId": "0969f708-68ca-43df-aeca-516a83232579"
   },
   "outputs": [
    {
     "name": "stdout",
     "output_type": "stream",
     "text": [
      "3/3 [==============================] - 0s 4ms/step\n",
      "              precision    recall  f1-score   support\n",
      "\n",
      "           0       0.71      0.55      0.62        62\n",
      "           1       0.09      0.25      0.13         8\n",
      "           2       0.00      0.00      0.00         6\n",
      "           3       0.12      0.17      0.14         6\n",
      "           4       0.00      0.00      0.00         2\n",
      "\n",
      "    accuracy                           0.44        84\n",
      "   macro avg       0.18      0.19      0.18        84\n",
      "weighted avg       0.54      0.44      0.48        84\n",
      "\n"
     ]
    }
   ],
   "source": [
    "pred_test_ann_resampled = ann_model_resampled.predict(padded_sequence_test)\n",
    "y_pred_classes_ann_resampled = pred_test_ann_resampled.argmax(axis=1)\n",
    "report_ann_resampled = classification_report(test_y, y_pred_classes_ann_resampled)\n",
    "print(report_ann_resampled)"
   ]
  },
  {
   "cell_type": "markdown",
   "metadata": {
    "id": "GNxgHhcgdzM7"
   },
   "source": [
    "## Simple RNN with cleansed description only"
   ]
  },
  {
   "cell_type": "code",
   "execution_count": 112,
   "metadata": {
    "colab": {
     "base_uri": "https://localhost:8080/"
    },
    "id": "aT93JOgPd3X1",
    "outputId": "7689ce62-1c9d-45ce-e9a6-dbe20dd5ab3d"
   },
   "outputs": [
    {
     "name": "stdout",
     "output_type": "stream",
     "text": [
      "Model: \"sequential\"\n",
      "_________________________________________________________________\n",
      " Layer (type)                Output Shape              Param #   \n",
      "=================================================================\n",
      " simple_rnn (SimpleRNN)      (None, 32)                1088      \n",
      "                                                                 \n",
      " batch_normalization (Batch  (None, 32)                128       \n",
      " Normalization)                                                  \n",
      "                                                                 \n",
      " dense (Dense)               (None, 64)                2112      \n",
      "                                                                 \n",
      " batch_normalization_1 (Bat  (None, 64)                256       \n",
      " chNormalization)                                                \n",
      "                                                                 \n",
      " dense_1 (Dense)             (None, 5)                 325       \n",
      "                                                                 \n",
      "=================================================================\n",
      "Total params: 3909 (15.27 KB)\n",
      "Trainable params: 3717 (14.52 KB)\n",
      "Non-trainable params: 192 (768.00 Byte)\n",
      "_________________________________________________________________\n"
     ]
    }
   ],
   "source": [
    "tf.keras.backend.clear_session()\n",
    "reset_random_seeds()\n",
    "rnn_model = Sequential()\n",
    "rnn_model.add(SimpleRNN(32,input_shape=(max_sequence_length,1),return_sequences=False))\n",
    "rnn_model.add(BatchNormalization())\n",
    "rnn_model.add(Dense(64, activation='relu'))\n",
    "rnn_model.add(BatchNormalization())\n",
    "# rnn_model.add(Dense(32, activation='relu'))\n",
    "# rnn_model.add(BatchNormalization())\n",
    "rnn_model.add(Dense(5,activation='softmax'))\n",
    "rnn_model.compile(optimizer=Adam(learning_rate=0.1),loss='categorical_crossentropy',metrics=['accuracy'])\n",
    "rnn_model.summary()"
   ]
  },
  {
   "cell_type": "code",
   "execution_count": 113,
   "metadata": {
    "colab": {
     "base_uri": "https://localhost:8080/"
    },
    "id": "8JsPnNUpaAN_",
    "outputId": "3a29f7df-4e92-481e-debc-d1c4cd066120"
   },
   "outputs": [
    {
     "name": "stdout",
     "output_type": "stream",
     "text": [
      "Epoch 1/10\n",
      "15/15 [==============================] - 9s 193ms/step - loss: 1.8101 - accuracy: 0.5345 - val_loss: 5.2328 - val_accuracy: 0.0700\n",
      "Epoch 2/10\n",
      "15/15 [==============================] - 2s 164ms/step - loss: 1.2356 - accuracy: 0.6724 - val_loss: 2.0447 - val_accuracy: 0.7000\n",
      "Epoch 3/10\n",
      "15/15 [==============================] - 3s 186ms/step - loss: 1.3400 - accuracy: 0.6897 - val_loss: 1.2572 - val_accuracy: 0.7200\n",
      "Epoch 4/10\n",
      "15/15 [==============================] - 3s 204ms/step - loss: 1.0697 - accuracy: 0.7414 - val_loss: 1.3213 - val_accuracy: 0.7100\n",
      "Epoch 5/10\n",
      "15/15 [==============================] - 2s 152ms/step - loss: 0.9259 - accuracy: 0.7371 - val_loss: 1.1324 - val_accuracy: 0.7200\n",
      "Epoch 6/10\n",
      "15/15 [==============================] - 2s 151ms/step - loss: 0.9124 - accuracy: 0.7500 - val_loss: 1.2573 - val_accuracy: 0.7200\n",
      "Epoch 7/10\n",
      "15/15 [==============================] - 3s 175ms/step - loss: 0.8921 - accuracy: 0.7500 - val_loss: 1.1119 - val_accuracy: 0.7200\n",
      "Epoch 8/10\n",
      "15/15 [==============================] - 1s 82ms/step - loss: 0.8550 - accuracy: 0.7500 - val_loss: 1.1160 - val_accuracy: 0.7200\n",
      "Epoch 9/10\n",
      "15/15 [==============================] - 1s 62ms/step - loss: 0.8834 - accuracy: 0.7500 - val_loss: 1.0572 - val_accuracy: 0.7200\n",
      "Epoch 10/10\n",
      "15/15 [==============================] - 1s 80ms/step - loss: 0.8643 - accuracy: 0.7500 - val_loss: 1.0599 - val_accuracy: 0.7200\n"
     ]
    },
    {
     "data": {
      "text/plain": [
       "<keras.src.callbacks.History at 0x7fd0c3bf7d90>"
      ]
     },
     "execution_count": 113,
     "metadata": {},
     "output_type": "execute_result"
    }
   ],
   "source": [
    "rnn_model.fit(padded_sequence_train,y_train_encoded, epochs=10, batch_size=16, validation_split=0.3)"
   ]
  },
  {
   "cell_type": "code",
   "execution_count": 114,
   "metadata": {
    "colab": {
     "base_uri": "https://localhost:8080/"
    },
    "id": "0UYoTnSrhesy",
    "outputId": "05558751-97aa-462e-f3f0-486f31e94bcc"
   },
   "outputs": [
    {
     "name": "stdout",
     "output_type": "stream",
     "text": [
      "3/3 [==============================] - 0s 16ms/step\n",
      "              precision    recall  f1-score   support\n",
      "\n",
      "           0       0.74      1.00      0.85        62\n",
      "           1       0.00      0.00      0.00         8\n",
      "           2       0.00      0.00      0.00         6\n",
      "           3       0.00      0.00      0.00         6\n",
      "           4       0.00      0.00      0.00         2\n",
      "\n",
      "    accuracy                           0.74        84\n",
      "   macro avg       0.15      0.20      0.17        84\n",
      "weighted avg       0.54      0.74      0.63        84\n",
      "\n"
     ]
    }
   ],
   "source": [
    "pred_test_rnn=rnn_model.predict(padded_sequence_test)\n",
    "y_pred_classes_rnn=pred_test_rnn.argmax(axis=1)\n",
    "report_rnn=classification_report(test_y,y_pred_classes_rnn)\n",
    "print(report_rnn)"
   ]
  },
  {
   "cell_type": "markdown",
   "metadata": {
    "id": "eFxSLsqZbCLg"
   },
   "source": [
    "## Simple RNN with cleansed description only + resampled"
   ]
  },
  {
   "cell_type": "code",
   "execution_count": 115,
   "metadata": {
    "colab": {
     "base_uri": "https://localhost:8080/"
    },
    "id": "cWcUJrN7bIxr",
    "outputId": "74ad68b2-ba9d-4f26-e79f-1b6fef8f9518"
   },
   "outputs": [
    {
     "name": "stdout",
     "output_type": "stream",
     "text": [
      "Model: \"sequential\"\n",
      "_________________________________________________________________\n",
      " Layer (type)                Output Shape              Param #   \n",
      "=================================================================\n",
      " simple_rnn (SimpleRNN)      (None, 32)                1088      \n",
      "                                                                 \n",
      " batch_normalization (Batch  (None, 32)                128       \n",
      " Normalization)                                                  \n",
      "                                                                 \n",
      " dense (Dense)               (None, 64)                2112      \n",
      "                                                                 \n",
      " batch_normalization_1 (Bat  (None, 64)                256       \n",
      " chNormalization)                                                \n",
      "                                                                 \n",
      " dense_1 (Dense)             (None, 32)                2080      \n",
      "                                                                 \n",
      " dense_2 (Dense)             (None, 5)                 165       \n",
      "                                                                 \n",
      "=================================================================\n",
      "Total params: 5829 (22.77 KB)\n",
      "Trainable params: 5637 (22.02 KB)\n",
      "Non-trainable params: 192 (768.00 Byte)\n",
      "_________________________________________________________________\n"
     ]
    }
   ],
   "source": [
    "reset_random_seeds()\n",
    "tf.keras.backend.clear_session()\n",
    "rnn_model_resampled = Sequential()\n",
    "rnn_model_resampled.add(SimpleRNN(32,input_shape=(max_sequence_length,1),return_sequences=False))\n",
    "rnn_model_resampled.add(BatchNormalization())\n",
    "rnn_model_resampled.add(Dense(64, activation='relu'))\n",
    "rnn_model_resampled.add(BatchNormalization())\n",
    "rnn_model_resampled.add(Dense(32, activation='relu'))\n",
    "rnn_model_resampled.add(Dense(5,activation='softmax'))\n",
    "rnn_model_resampled.compile(optimizer=Adam(learning_rate=0.0001),loss='categorical_crossentropy',metrics=['accuracy'])\n",
    "rnn_model_resampled.summary()"
   ]
  },
  {
   "cell_type": "code",
   "execution_count": 116,
   "metadata": {
    "colab": {
     "base_uri": "https://localhost:8080/"
    },
    "id": "lG7ofpbobM9W",
    "outputId": "34989e7b-4e22-48b6-e370-4aea5ddd02a7"
   },
   "outputs": [
    {
     "name": "stdout",
     "output_type": "stream",
     "text": [
      "Epoch 1/10\n",
      "44/44 [==============================] - 6s 92ms/step - loss: 1.7086 - accuracy: 0.2243 - val_loss: 1.6514 - val_accuracy: 0.2933\n",
      "Epoch 2/10\n",
      "44/44 [==============================] - 3s 75ms/step - loss: 1.5741 - accuracy: 0.2757 - val_loss: 1.6649 - val_accuracy: 0.3267\n",
      "Epoch 3/10\n",
      "44/44 [==============================] - 2s 57ms/step - loss: 1.4568 - accuracy: 0.3557 - val_loss: 1.6872 - val_accuracy: 0.3233\n",
      "Epoch 4/10\n",
      "44/44 [==============================] - 3s 58ms/step - loss: 1.4140 - accuracy: 0.3700 - val_loss: 1.7594 - val_accuracy: 0.3100\n",
      "Epoch 5/10\n",
      "44/44 [==============================] - 3s 58ms/step - loss: 1.3698 - accuracy: 0.3686 - val_loss: 1.8287 - val_accuracy: 0.2933\n",
      "Epoch 6/10\n",
      "44/44 [==============================] - 5s 105ms/step - loss: 1.3539 - accuracy: 0.3986 - val_loss: 1.9000 - val_accuracy: 0.2567\n",
      "Epoch 7/10\n",
      "44/44 [==============================] - 3s 57ms/step - loss: 1.3423 - accuracy: 0.4014 - val_loss: 2.0107 - val_accuracy: 0.2267\n",
      "Epoch 8/10\n",
      "44/44 [==============================] - 3s 60ms/step - loss: 1.2787 - accuracy: 0.4543 - val_loss: 2.0881 - val_accuracy: 0.2600\n",
      "Epoch 9/10\n",
      "44/44 [==============================] - 2s 57ms/step - loss: 1.2408 - accuracy: 0.4743 - val_loss: 2.1605 - val_accuracy: 0.2867\n",
      "Epoch 10/10\n",
      "44/44 [==============================] - 3s 66ms/step - loss: 1.2431 - accuracy: 0.4900 - val_loss: 2.2270 - val_accuracy: 0.2333\n"
     ]
    },
    {
     "data": {
      "text/plain": [
       "<keras.src.callbacks.History at 0x7fd0b9804fa0>"
      ]
     },
     "execution_count": 116,
     "metadata": {},
     "output_type": "execute_result"
    }
   ],
   "source": [
    "rnn_model_resampled.fit(x_resampled,y_train_encoded_resampled, epochs=10, batch_size=16, validation_split=0.3)"
   ]
  },
  {
   "cell_type": "code",
   "execution_count": 117,
   "metadata": {
    "colab": {
     "base_uri": "https://localhost:8080/"
    },
    "id": "L5LFj8c3bQ9v",
    "outputId": "db6773c9-17cb-4d2c-9461-9c1f05b61655"
   },
   "outputs": [
    {
     "name": "stdout",
     "output_type": "stream",
     "text": [
      "3/3 [==============================] - 0s 18ms/step\n",
      "              precision    recall  f1-score   support\n",
      "\n",
      "           0       0.86      0.10      0.17        62\n",
      "           1       0.09      0.50      0.16         8\n",
      "           2       0.08      0.17      0.11         6\n",
      "           3       0.05      0.17      0.07         6\n",
      "           4       0.00      0.00      0.00         2\n",
      "\n",
      "    accuracy                           0.14        84\n",
      "   macro avg       0.21      0.19      0.10        84\n",
      "weighted avg       0.65      0.14      0.16        84\n",
      "\n"
     ]
    }
   ],
   "source": [
    "pred_test_rnn_resampled=rnn_model_resampled.predict(padded_sequence_test)\n",
    "y_pred_classes_rnn_resampled=pred_test_rnn_resampled.argmax(axis=1)\n",
    "report_rnn_resampled=classification_report(test_y,y_pred_classes_rnn_resampled)\n",
    "print(report_rnn_resampled)"
   ]
  },
  {
   "cell_type": "markdown",
   "metadata": {
    "id": "SDrcBmVmSMLT"
   },
   "source": [
    "## Simple RNN with cleansed description + resampled data + Embedding layer\n"
   ]
  },
  {
   "cell_type": "code",
   "execution_count": 118,
   "metadata": {
    "colab": {
     "base_uri": "https://localhost:8080/"
    },
    "id": "clhChzw8SSt0",
    "outputId": "829da24f-683f-4fe2-da4c-125116193614"
   },
   "outputs": [
    {
     "name": "stdout",
     "output_type": "stream",
     "text": [
      "Model: \"sequential\"\n",
      "_________________________________________________________________\n",
      " Layer (type)                Output Shape              Param #   \n",
      "=================================================================\n",
      " embedding (Embedding)       (None, 359, 10)           25430     \n",
      "                                                                 \n",
      " simple_rnn (SimpleRNN)      (None, 16)                432       \n",
      "                                                                 \n",
      " batch_normalization (Batch  (None, 16)                64        \n",
      " Normalization)                                                  \n",
      "                                                                 \n",
      " dense (Dense)               (None, 64)                1088      \n",
      "                                                                 \n",
      " batch_normalization_1 (Bat  (None, 64)                256       \n",
      " chNormalization)                                                \n",
      "                                                                 \n",
      " dense_1 (Dense)             (None, 32)                2080      \n",
      "                                                                 \n",
      " dense_2 (Dense)             (None, 5)                 165       \n",
      "                                                                 \n",
      "=================================================================\n",
      "Total params: 29515 (115.29 KB)\n",
      "Trainable params: 29355 (114.67 KB)\n",
      "Non-trainable params: 160 (640.00 Byte)\n",
      "_________________________________________________________________\n"
     ]
    }
   ],
   "source": [
    "reset_random_seeds()\n",
    "tf.keras.backend.clear_session()\n",
    "rnn_model_embedding = Sequential()\n",
    "rnn_model_embedding.add(Embedding(input_dim=len(tokenizer.word_index)+1,\n",
    "                    output_dim = embedding_size,\n",
    "                    input_length = max_sequence_length))\n",
    "rnn_model_embedding.add(SimpleRNN(16,input_shape=(max_sequence_length,1),return_sequences=False))\n",
    "rnn_model_embedding.add(BatchNormalization())\n",
    "rnn_model_embedding.add(Dense(64, activation='relu'))\n",
    "rnn_model_embedding.add(BatchNormalization())\n",
    "rnn_model_embedding.add(Dense(32, activation='relu'))\n",
    "rnn_model_embedding.add(Dense(5,activation='softmax'))\n",
    "rnn_model_embedding.compile(optimizer=Adam(learning_rate=0.001),loss='categorical_crossentropy',metrics=['accuracy'])\n",
    "rnn_model_embedding.summary()"
   ]
  },
  {
   "cell_type": "code",
   "execution_count": 119,
   "metadata": {
    "colab": {
     "base_uri": "https://localhost:8080/"
    },
    "id": "Rwti8GuocX_J",
    "outputId": "ead7478c-1ba0-47ed-bdd9-6b6f2a2be9cd"
   },
   "outputs": [
    {
     "name": "stdout",
     "output_type": "stream",
     "text": [
      "Epoch 1/10\n",
      "44/44 [==============================] - 7s 85ms/step - loss: 1.5970 - accuracy: 0.2786 - val_loss: 1.6368 - val_accuracy: 0.0000e+00\n",
      "Epoch 2/10\n",
      "44/44 [==============================] - 3s 75ms/step - loss: 1.5167 - accuracy: 0.2857 - val_loss: 1.9340 - val_accuracy: 0.0000e+00\n",
      "Epoch 3/10\n",
      "44/44 [==============================] - 4s 86ms/step - loss: 1.4337 - accuracy: 0.2929 - val_loss: 2.5009 - val_accuracy: 0.0000e+00\n",
      "Epoch 4/10\n",
      "44/44 [==============================] - 5s 110ms/step - loss: 1.3975 - accuracy: 0.2629 - val_loss: 2.8708 - val_accuracy: 0.0000e+00\n",
      "Epoch 5/10\n",
      "44/44 [==============================] - 5s 106ms/step - loss: 1.3914 - accuracy: 0.2429 - val_loss: 3.1767 - val_accuracy: 0.0000e+00\n",
      "Epoch 6/10\n",
      "44/44 [==============================] - 3s 76ms/step - loss: 1.3880 - accuracy: 0.2614 - val_loss: 3.3252 - val_accuracy: 0.0000e+00\n",
      "Epoch 7/10\n",
      "44/44 [==============================] - 6s 126ms/step - loss: 1.3876 - accuracy: 0.2786 - val_loss: 3.4288 - val_accuracy: 0.0000e+00\n",
      "Epoch 8/10\n",
      "44/44 [==============================] - 3s 76ms/step - loss: 1.3877 - accuracy: 0.2671 - val_loss: 3.5473 - val_accuracy: 0.0000e+00\n",
      "Epoch 9/10\n",
      "44/44 [==============================] - 3s 76ms/step - loss: 1.3886 - accuracy: 0.2871 - val_loss: 3.6660 - val_accuracy: 0.0000e+00\n",
      "Epoch 10/10\n",
      "44/44 [==============================] - 4s 102ms/step - loss: 1.3897 - accuracy: 0.2643 - val_loss: 3.7699 - val_accuracy: 0.0000e+00\n"
     ]
    },
    {
     "data": {
      "text/plain": [
       "<keras.src.callbacks.History at 0x7fd0baf19570>"
      ]
     },
     "execution_count": 119,
     "metadata": {},
     "output_type": "execute_result"
    }
   ],
   "source": [
    "rnn_model_embedding.fit(x_resampled,y_train_encoded_resampled, epochs=10, batch_size=16, validation_split=0.3)"
   ]
  },
  {
   "cell_type": "code",
   "execution_count": 120,
   "metadata": {
    "colab": {
     "base_uri": "https://localhost:8080/"
    },
    "id": "yFCknZXeTP--",
    "outputId": "1b7ff858-39cd-4390-8156-b5fb4a83f611"
   },
   "outputs": [
    {
     "name": "stdout",
     "output_type": "stream",
     "text": [
      "3/3 [==============================] - 0s 17ms/step\n",
      "              precision    recall  f1-score   support\n",
      "\n",
      "           0       0.74      1.00      0.85        62\n",
      "           1       0.00      0.00      0.00         8\n",
      "           2       0.00      0.00      0.00         6\n",
      "           3       0.00      0.00      0.00         6\n",
      "           4       0.00      0.00      0.00         2\n",
      "\n",
      "    accuracy                           0.74        84\n",
      "   macro avg       0.15      0.20      0.17        84\n",
      "weighted avg       0.54      0.74      0.63        84\n",
      "\n"
     ]
    }
   ],
   "source": [
    "pred_test_rnn_embedding=rnn_model_embedding.predict(padded_sequence_test)\n",
    "y_pred_classes_rnn_embedding=pred_test_rnn_embedding.argmax(axis=1)\n",
    "report_rnn_embedding=classification_report(test_y,y_pred_classes_rnn_embedding)\n",
    "print(report_rnn_embedding)"
   ]
  },
  {
   "cell_type": "markdown",
   "metadata": {
    "id": "L1fKfOS7cuQQ"
   },
   "source": [
    "## Simple RNN with cleansed description + resampled data + Embedding layer + Pre trained embedding"
   ]
  },
  {
   "cell_type": "code",
   "execution_count": 121,
   "metadata": {
    "colab": {
     "base_uri": "https://localhost:8080/"
    },
    "id": "05K8JxIrlPEt",
    "outputId": "317e97c6-cc1b-4099-b52e-d6ae50c7b1fd"
   },
   "outputs": [
    {
     "name": "stdout",
     "output_type": "stream",
     "text": [
      "Model: \"sequential\"\n",
      "_________________________________________________________________\n",
      " Layer (type)                Output Shape              Param #   \n",
      "=================================================================\n",
      " embedding (Embedding)       (None, 359, 300)          762900    \n",
      "                                                                 \n",
      " simple_rnn (SimpleRNN)      (None, 32)                10656     \n",
      "                                                                 \n",
      " batch_normalization (Batch  (None, 32)                128       \n",
      " Normalization)                                                  \n",
      "                                                                 \n",
      " dense (Dense)               (None, 32)                1056      \n",
      "                                                                 \n",
      " batch_normalization_1 (Bat  (None, 32)                128       \n",
      " chNormalization)                                                \n",
      "                                                                 \n",
      " dense_1 (Dense)             (None, 5)                 165       \n",
      "                                                                 \n",
      "=================================================================\n",
      "Total params: 775033 (2.96 MB)\n",
      "Trainable params: 774905 (2.96 MB)\n",
      "Non-trainable params: 128 (512.00 Byte)\n",
      "_________________________________________________________________\n"
     ]
    }
   ],
   "source": [
    "reset_random_seeds()\n",
    "tf.keras.backend.clear_session()\n",
    "rnn_model_embedding_w2v = Sequential()\n",
    "rnn_model_embedding_w2v.add(Embedding(input_dim=len(tokenizer.word_index)+1,\n",
    "                    output_dim = embedding_dim,\n",
    "                    weights=[embedding_matrix],\n",
    "                    input_length = max_sequence_length))\n",
    "rnn_model_embedding_w2v.add(SimpleRNN(32,input_shape=(max_sequence_length,1),return_sequences=False))\n",
    "rnn_model_embedding_w2v.add(BatchNormalization())\n",
    "# rnn_model_embedding_w2v.add(Dense(32, activation='relu'))\n",
    "# rnn_model_embedding_w2v.add(BatchNormalization())\n",
    "rnn_model_embedding_w2v.add(Dense(32, activation='relu'))\n",
    "rnn_model_embedding_w2v.add(BatchNormalization())\n",
    "rnn_model_embedding_w2v.add(Dense(5,activation='softmax'))\n",
    "rnn_model_embedding_w2v.compile(optimizer=Adam(learning_rate=0.001),loss='categorical_crossentropy',metrics=['accuracy'])\n",
    "rnn_model_embedding_w2v.summary()"
   ]
  },
  {
   "cell_type": "code",
   "execution_count": 122,
   "metadata": {
    "colab": {
     "base_uri": "https://localhost:8080/"
    },
    "id": "5idEBvO0ldb1",
    "outputId": "c5235694-d7c3-4071-bd67-384a13a16aa6"
   },
   "outputs": [
    {
     "name": "stdout",
     "output_type": "stream",
     "text": [
      "Epoch 1/10\n",
      "22/22 [==============================] - 6s 159ms/step - loss: 1.6389 - accuracy: 0.2657 - val_loss: 1.7503 - val_accuracy: 0.0000e+00\n",
      "Epoch 2/10\n",
      "22/22 [==============================] - 3s 144ms/step - loss: 1.5657 - accuracy: 0.2857 - val_loss: 1.8427 - val_accuracy: 0.0000e+00\n",
      "Epoch 3/10\n",
      "22/22 [==============================] - 5s 226ms/step - loss: 1.5389 - accuracy: 0.2557 - val_loss: 1.9425 - val_accuracy: 0.0000e+00\n",
      "Epoch 4/10\n",
      "22/22 [==============================] - 3s 142ms/step - loss: 1.5130 - accuracy: 0.2686 - val_loss: 2.0553 - val_accuracy: 0.0000e+00\n",
      "Epoch 5/10\n",
      "22/22 [==============================] - 4s 195ms/step - loss: 1.4893 - accuracy: 0.2614 - val_loss: 2.1850 - val_accuracy: 0.0000e+00\n",
      "Epoch 6/10\n",
      "22/22 [==============================] - 4s 186ms/step - loss: 1.4672 - accuracy: 0.2857 - val_loss: 2.3206 - val_accuracy: 0.0000e+00\n",
      "Epoch 7/10\n",
      "22/22 [==============================] - 4s 178ms/step - loss: 1.4478 - accuracy: 0.2857 - val_loss: 2.4534 - val_accuracy: 0.0000e+00\n",
      "Epoch 8/10\n",
      "22/22 [==============================] - 3s 138ms/step - loss: 1.4330 - accuracy: 0.2686 - val_loss: 2.5847 - val_accuracy: 0.0000e+00\n",
      "Epoch 9/10\n",
      "22/22 [==============================] - 3s 141ms/step - loss: 1.4213 - accuracy: 0.2729 - val_loss: 2.7017 - val_accuracy: 0.0000e+00\n",
      "Epoch 10/10\n",
      "22/22 [==============================] - 4s 179ms/step - loss: 1.4123 - accuracy: 0.2671 - val_loss: 2.7993 - val_accuracy: 0.0000e+00\n"
     ]
    },
    {
     "data": {
      "text/plain": [
       "<keras.src.callbacks.History at 0x7fd0bc988610>"
      ]
     },
     "execution_count": 122,
     "metadata": {},
     "output_type": "execute_result"
    }
   ],
   "source": [
    "rnn_model_embedding_w2v.fit(x_resampled,y_train_encoded_resampled, epochs=10, batch_size=32, validation_split=0.3)"
   ]
  },
  {
   "cell_type": "code",
   "execution_count": 123,
   "metadata": {
    "colab": {
     "base_uri": "https://localhost:8080/"
    },
    "id": "Gu-1K8GZlw7k",
    "outputId": "b9ea7110-5a12-4d69-fb65-f679e2212db0"
   },
   "outputs": [
    {
     "name": "stdout",
     "output_type": "stream",
     "text": [
      "3/3 [==============================] - 0s 50ms/step\n",
      "              precision    recall  f1-score   support\n",
      "\n",
      "           0       0.74      1.00      0.85        62\n",
      "           1       0.00      0.00      0.00         8\n",
      "           2       0.00      0.00      0.00         6\n",
      "           3       0.00      0.00      0.00         6\n",
      "           4       0.00      0.00      0.00         2\n",
      "\n",
      "    accuracy                           0.74        84\n",
      "   macro avg       0.15      0.20      0.17        84\n",
      "weighted avg       0.54      0.74      0.63        84\n",
      "\n"
     ]
    }
   ],
   "source": [
    "pred_test_rnn_embedding_w2v=rnn_model_embedding_w2v.predict(padded_sequence_test)\n",
    "y_pred_classes_rnn_embedding_w2v=pred_test_rnn_embedding_w2v.argmax(axis=1)\n",
    "report_rnn_embedding_w2v=classification_report(test_y,y_pred_classes_rnn_embedding_w2v)\n",
    "print(report_rnn_embedding_w2v)"
   ]
  },
  {
   "cell_type": "markdown",
   "metadata": {
    "id": "2Dh5b0_dPXI1"
   },
   "source": [
    "## LSTM with cleansed description + resampled data + Embedding layer + Pre trained embedding"
   ]
  },
  {
   "cell_type": "code",
   "execution_count": 124,
   "metadata": {
    "colab": {
     "base_uri": "https://localhost:8080/"
    },
    "id": "AkvilBdFcdnP",
    "outputId": "7bbaf7fd-969f-418c-c506-f496676d69f3"
   },
   "outputs": [
    {
     "name": "stdout",
     "output_type": "stream",
     "text": [
      "Model: \"sequential\"\n",
      "_________________________________________________________________\n",
      " Layer (type)                Output Shape              Param #   \n",
      "=================================================================\n",
      " embedding (Embedding)       (None, 359, 300)          762900    \n",
      "                                                                 \n",
      " lstm (LSTM)                 (None, 64)                93440     \n",
      "                                                                 \n",
      " dropout (Dropout)           (None, 64)                0         \n",
      "                                                                 \n",
      " dense (Dense)               (None, 32)                2080      \n",
      "                                                                 \n",
      " dense_1 (Dense)             (None, 5)                 165       \n",
      "                                                                 \n",
      "=================================================================\n",
      "Total params: 858585 (3.28 MB)\n",
      "Trainable params: 858585 (3.28 MB)\n",
      "Non-trainable params: 0 (0.00 Byte)\n",
      "_________________________________________________________________\n"
     ]
    }
   ],
   "source": [
    "reset_random_seeds()\n",
    "#Initialize model\n",
    "tf.keras.backend.clear_session()\n",
    "model_LSTM = Sequential()\n",
    "model_LSTM.add(Embedding(input_dim=len(tokenizer.word_index)+1,\n",
    "                    output_dim = embedding_dim, # using google pre-embedded matrix increase the accuracy\n",
    "                    weights=[embedding_matrix],\n",
    "                    # output_dim =50,\n",
    "                    input_length = max_sequence_length,))\n",
    "model_LSTM.add(LSTM(64))\n",
    "model_LSTM.add(Dropout(0.5))\n",
    "model_LSTM.add(Dense(32, activation='relu'))\n",
    "model_LSTM.add(Dense(5, activation='softmax'))\n",
    "model_LSTM.compile(optimizer=Adam(learning_rate=0.0001), loss='binary_crossentropy', metrics=['accuracy'])\n",
    "model_LSTM.summary()"
   ]
  },
  {
   "cell_type": "code",
   "execution_count": 125,
   "metadata": {
    "colab": {
     "base_uri": "https://localhost:8080/"
    },
    "id": "mU8ShERbnS0S",
    "outputId": "4ca39d86-340d-4e23-9120-f2ab16913a9a"
   },
   "outputs": [
    {
     "name": "stdout",
     "output_type": "stream",
     "text": [
      "Epoch 1/5\n",
      "44/44 [==============================] - 17s 333ms/step - loss: 0.6807 - accuracy: 0.1557 - val_loss: 0.6753 - val_accuracy: 0.3533\n",
      "Epoch 2/5\n",
      "44/44 [==============================] - 14s 321ms/step - loss: 0.5957 - accuracy: 0.1500 - val_loss: 0.6822 - val_accuracy: 0.3533\n",
      "Epoch 3/5\n",
      "44/44 [==============================] - 14s 320ms/step - loss: 0.5056 - accuracy: 0.2357 - val_loss: 0.7053 - val_accuracy: 0.0000e+00\n",
      "Epoch 4/5\n",
      "44/44 [==============================] - 14s 318ms/step - loss: 0.4862 - accuracy: 0.2643 - val_loss: 0.7340 - val_accuracy: 0.0000e+00\n",
      "Epoch 5/5\n",
      "44/44 [==============================] - 14s 319ms/step - loss: 0.4753 - accuracy: 0.2929 - val_loss: 0.7541 - val_accuracy: 0.0000e+00\n"
     ]
    },
    {
     "data": {
      "text/plain": [
       "<keras.src.callbacks.History at 0x7fd0bd301390>"
      ]
     },
     "execution_count": 125,
     "metadata": {},
     "output_type": "execute_result"
    }
   ],
   "source": [
    "model_LSTM.fit(x_resampled, y_train_encoded_resampled, epochs=5, batch_size=16, validation_split=0.3)"
   ]
  },
  {
   "cell_type": "code",
   "execution_count": 126,
   "metadata": {
    "colab": {
     "base_uri": "https://localhost:8080/"
    },
    "id": "IjE9ulZdupfn",
    "outputId": "87196421-45f3-47fe-84c7-f452d766ae00"
   },
   "outputs": [
    {
     "name": "stdout",
     "output_type": "stream",
     "text": [
      "3/3 [==============================] - 1s 101ms/step\n",
      "              precision    recall  f1-score   support\n",
      "\n",
      "           0       0.74      1.00      0.85        62\n",
      "           1       0.00      0.00      0.00         8\n",
      "           2       0.00      0.00      0.00         6\n",
      "           3       0.00      0.00      0.00         6\n",
      "           4       0.00      0.00      0.00         2\n",
      "\n",
      "    accuracy                           0.74        84\n",
      "   macro avg       0.15      0.20      0.17        84\n",
      "weighted avg       0.54      0.74      0.63        84\n",
      "\n"
     ]
    }
   ],
   "source": [
    "pred_test_LSTM_w2v=model_LSTM.predict(padded_sequence_test)\n",
    "y_pred_classes_LSTM_w2v=pred_test_LSTM_w2v.argmax(axis=1)\n",
    "report_LSTM_w2v=classification_report(test_y,y_pred_classes_LSTM_w2v)\n",
    "print(report_LSTM_w2v)"
   ]
  },
  {
   "cell_type": "markdown",
   "metadata": {
    "id": "ykHpO4sGkRFn"
   },
   "source": [
    "## LSTM with embedding on resampled data + categorical variables"
   ]
  },
  {
   "cell_type": "code",
   "execution_count": 127,
   "metadata": {
    "colab": {
     "base_uri": "https://localhost:8080/"
    },
    "id": "f6ZjFj--HbIc",
    "outputId": "5393a37b-7565-4a2a-e9e2-a3aeaf1f3ece"
   },
   "outputs": [
    {
     "name": "stdout",
     "output_type": "stream",
     "text": [
      "Model: \"model\"\n",
      "__________________________________________________________________________________________________\n",
      " Layer (type)                Output Shape                 Param #   Connected to                  \n",
      "==================================================================================================\n",
      " text_input (InputLayer)     [(None, 359)]                0         []                            \n",
      "                                                                                                  \n",
      " embedding (Embedding)       (None, 359, 300)             762900    ['text_input[0][0]']          \n",
      "                                                                                                  \n",
      " lstm (LSTM)                 (None, 128)                  219648    ['embedding[0][0]']           \n",
      "                                                                                                  \n",
      " categorical_input (InputLa  [(None, 108)]                0         []                            \n",
      " yer)                                                                                             \n",
      "                                                                                                  \n",
      " dropout (Dropout)           (None, 128)                  0         ['lstm[0][0]']                \n",
      "                                                                                                  \n",
      " dense (Dense)               (None, 128)                  13952     ['categorical_input[0][0]']   \n",
      "                                                                                                  \n",
      " concatenate (Concatenate)   (None, 256)                  0         ['dropout[0][0]',             \n",
      "                                                                     'dense[0][0]']               \n",
      "                                                                                                  \n",
      " dense_1 (Dense)             (None, 64)                   16448     ['concatenate[0][0]']         \n",
      "                                                                                                  \n",
      " dense_2 (Dense)             (None, 5)                    325       ['dense_1[0][0]']             \n",
      "                                                                                                  \n",
      "==================================================================================================\n",
      "Total params: 1013273 (3.87 MB)\n",
      "Trainable params: 1013273 (3.87 MB)\n",
      "Non-trainable params: 0 (0.00 Byte)\n",
      "__________________________________________________________________________________________________\n"
     ]
    }
   ],
   "source": [
    "reset_random_seeds()\n",
    "# Clear previous models and generate a new one\n",
    "tf.keras.backend.clear_session()\n",
    "\n",
    "# Text input branch with Word2Vec embeddings\n",
    "text_input = Input(shape=(max_sequence_length,), dtype='int32', name='text_input')\n",
    "text_embedded = Embedding(input_dim=vocab_size,\n",
    "                          output_dim=embedding_dim,\n",
    "                          weights=[embedding_matrix],\n",
    "                          input_length=max_sequence_length,\n",
    "                          )(text_input)\n",
    "lstm_out = LSTM(128)(text_embedded)\n",
    "dropout_out = Dropout(0.1)(lstm_out)  # Add dropout to LSTM output\n",
    "\n",
    "# Categorical input branch\n",
    "categorical_input = Input(shape=(num_categorical_features,), name='categorical_input')\n",
    "dense_cat = Dense(128, activation='relu')(categorical_input)\n",
    "\n",
    "# Concatenate text and categorical branches\n",
    "concatenated = concatenate([dropout_out, dense_cat])\n",
    "\n",
    "# Final classifier\n",
    "classifier = Dense(64, activation='relu')(concatenated)\n",
    "output = Dense(y_resampled_encoded.shape[1], activation='softmax')(classifier)\n",
    "\n",
    "# Compile the model\n",
    "model = Model(inputs=[text_input, categorical_input], outputs=output)\n",
    "model.compile(optimizer=Adam(learning_rate=0.001), loss='categorical_crossentropy', metrics=['accuracy'])\n",
    "\n",
    "model.summary()"
   ]
  },
  {
   "cell_type": "code",
   "execution_count": 128,
   "metadata": {
    "colab": {
     "base_uri": "https://localhost:8080/"
    },
    "id": "70DBR3DoHert",
    "outputId": "def7f03b-f665-42bc-9848-ef83ca065991"
   },
   "outputs": [
    {
     "name": "stdout",
     "output_type": "stream",
     "text": [
      "Epoch 1/10\n",
      "50/50 [==============================] - 34s 633ms/step - loss: 1.3903 - accuracy: 0.3862 - val_loss: 3.4243 - val_accuracy: 0.0150\n",
      "Epoch 2/10\n",
      "50/50 [==============================] - 34s 687ms/step - loss: 1.1096 - accuracy: 0.5725 - val_loss: 4.4902 - val_accuracy: 0.0250\n",
      "Epoch 3/10\n",
      "50/50 [==============================] - 31s 632ms/step - loss: 0.9326 - accuracy: 0.6150 - val_loss: 4.3985 - val_accuracy: 0.0250\n",
      "Epoch 4/10\n",
      "50/50 [==============================] - 32s 631ms/step - loss: 0.8340 - accuracy: 0.6750 - val_loss: 4.5423 - val_accuracy: 0.0250\n",
      "Epoch 5/10\n",
      "50/50 [==============================] - 34s 683ms/step - loss: 0.7559 - accuracy: 0.6963 - val_loss: 4.7920 - val_accuracy: 0.0250\n",
      "Epoch 6/10\n",
      "50/50 [==============================] - 31s 629ms/step - loss: 0.6958 - accuracy: 0.7088 - val_loss: 4.5220 - val_accuracy: 0.0250\n",
      "Epoch 7/10\n",
      "50/50 [==============================] - 32s 633ms/step - loss: 0.6434 - accuracy: 0.7262 - val_loss: 4.6856 - val_accuracy: 0.0250\n",
      "Epoch 8/10\n",
      "50/50 [==============================] - 34s 692ms/step - loss: 0.5983 - accuracy: 0.7437 - val_loss: 5.3369 - val_accuracy: 0.0250\n",
      "Epoch 9/10\n",
      "50/50 [==============================] - 32s 634ms/step - loss: 0.5738 - accuracy: 0.7550 - val_loss: 4.9727 - val_accuracy: 0.0100\n",
      "Epoch 10/10\n",
      "50/50 [==============================] - 32s 640ms/step - loss: 0.5533 - accuracy: 0.7675 - val_loss: 4.7752 - val_accuracy: 0.0250\n"
     ]
    }
   ],
   "source": [
    "history = model.fit([padded_sequence_resampled, categorical_data_resampled], y_resampled_encoded,\n",
    "                    epochs=10, batch_size=16, validation_split=0.2\n",
    "                    )"
   ]
  },
  {
   "cell_type": "code",
   "execution_count": 129,
   "metadata": {
    "colab": {
     "base_uri": "https://localhost:8080/"
    },
    "id": "cS7_LorC8oTX",
    "outputId": "1011f671-d8cd-4308-960a-6ffa775c4ebd"
   },
   "outputs": [
    {
     "name": "stdout",
     "output_type": "stream",
     "text": [
      "3/3 [==============================] - 1s 201ms/step\n",
      "              precision    recall  f1-score   support\n",
      "\n",
      "           0       0.76      0.92      0.83        62\n",
      "           1       0.25      0.12      0.17         8\n",
      "           2       0.50      0.17      0.25         6\n",
      "           3       0.00      0.00      0.00         6\n",
      "           4       0.00      0.00      0.00         2\n",
      "\n",
      "    accuracy                           0.70        84\n",
      "   macro avg       0.30      0.24      0.25        84\n",
      "weighted avg       0.62      0.70      0.65        84\n",
      "\n"
     ]
    }
   ],
   "source": [
    "# Make predictions on the test set\n",
    "predictions = model.predict([padded_sequence_test,test_categorical_data])\n",
    "predicted_classes = predictions.argmax(axis=1)\n",
    "report_LSTM_allvars=classification_report(test_y,predicted_classes)\n",
    "print(report_LSTM_allvars)\n"
   ]
  },
  {
   "cell_type": "markdown",
   "metadata": {
    "id": "p6MH0nCpcyKM"
   },
   "source": [
    "## All models summary results"
   ]
  },
  {
   "cell_type": "code",
   "execution_count": 132,
   "metadata": {
    "colab": {
     "base_uri": "https://localhost:8080/",
     "height": 1000
    },
    "id": "wH-0Nyerc3Tl",
    "outputId": "50d337b1-3f7b-4e0f-9cf9-92d33fc98325"
   },
   "outputs": [
    {
     "data": {
      "application/vnd.google.colaboratory.intrinsic+json": {
       "summary": "{\n  \"name\": \"stacked_results\",\n  \"rows\": 40,\n  \"fields\": [\n    {\n      \"column\": \"precision\",\n      \"properties\": {\n        \"dtype\": \"number\",\n        \"std\": 0.3008922107283662,\n        \"min\": 0.0,\n        \"max\": 0.8571428571428571,\n        \"num_unique_values\": 14,\n        \"samples\": [\n          0.09302325581395349,\n          0.047619047619047616,\n          0.7377049180327869\n        ],\n        \"semantic_type\": \"\",\n        \"description\": \"\"\n      }\n    },\n    {\n      \"column\": \"recall\",\n      \"properties\": {\n        \"dtype\": \"number\",\n        \"std\": 0.34008323854065714,\n        \"min\": 0.0,\n        \"max\": 1.0,\n        \"num_unique_values\": 10,\n        \"samples\": [\n          0.9193548387096774,\n          0.25,\n          1.0\n        ],\n        \"semantic_type\": \"\",\n        \"description\": \"\"\n      }\n    },\n    {\n      \"column\": \"f1-score\",\n      \"properties\": {\n        \"dtype\": \"number\",\n        \"std\": 0.29913818069354287,\n        \"min\": 0.0,\n        \"max\": 0.8493150684931507,\n        \"num_unique_values\": 13,\n        \"samples\": [\n          0.07407407407407407,\n          0.15686274509803924,\n          0.7317073170731708\n        ],\n        \"semantic_type\": \"\",\n        \"description\": \"\"\n      }\n    },\n    {\n      \"column\": \"accuracy\",\n      \"properties\": {\n        \"dtype\": \"number\",\n        \"std\": 0.20317841876759066,\n        \"min\": 0.14285714285714285,\n        \"max\": 0.7380952380952381,\n        \"num_unique_values\": 5,\n        \"samples\": [\n          0.44047619047619047,\n          0.7023809523809523,\n          0.7380952380952381\n        ],\n        \"semantic_type\": \"\",\n        \"description\": \"\"\n      }\n    },\n    {\n      \"column\": \"Model\",\n      \"properties\": {\n        \"dtype\": \"category\",\n        \"num_unique_values\": 8,\n        \"samples\": [\n          \"ANN model - Cleansed description with resampling\",\n          \"RNN model - Cleansed description with resampling + Pre trained W2V Embedding\",\n          \"ANN model - Cleansed description\"\n        ],\n        \"semantic_type\": \"\",\n        \"description\": \"\"\n      }\n    },\n    {\n      \"column\": \"Resampled\",\n      \"properties\": {\n        \"dtype\": \"category\",\n        \"num_unique_values\": 2,\n        \"samples\": [\n          \"Yes\",\n          \"No\"\n        ],\n        \"semantic_type\": \"\",\n        \"description\": \"\"\n      }\n    }\n  ]\n}",
       "type": "dataframe",
       "variable_name": "stacked_results"
      },
      "text/html": [
       "\n",
       "  <div id=\"df-9b1e55e7-9f01-4766-8a57-01bb50185c4b\" class=\"colab-df-container\">\n",
       "    <div>\n",
       "<style scoped>\n",
       "    .dataframe tbody tr th:only-of-type {\n",
       "        vertical-align: middle;\n",
       "    }\n",
       "\n",
       "    .dataframe tbody tr th {\n",
       "        vertical-align: top;\n",
       "    }\n",
       "\n",
       "    .dataframe thead th {\n",
       "        text-align: right;\n",
       "    }\n",
       "</style>\n",
       "<table border=\"1\" class=\"dataframe\">\n",
       "  <thead>\n",
       "    <tr style=\"text-align: right;\">\n",
       "      <th></th>\n",
       "      <th>precision</th>\n",
       "      <th>recall</th>\n",
       "      <th>f1-score</th>\n",
       "      <th>accuracy</th>\n",
       "      <th>Model</th>\n",
       "      <th>Resampled</th>\n",
       "    </tr>\n",
       "  </thead>\n",
       "  <tbody>\n",
       "    <tr>\n",
       "      <th>0</th>\n",
       "      <td>0.737705</td>\n",
       "      <td>0.725806</td>\n",
       "      <td>0.731707</td>\n",
       "      <td>0.571429</td>\n",
       "      <td>ANN model - Cleansed description</td>\n",
       "      <td>No</td>\n",
       "    </tr>\n",
       "    <tr>\n",
       "      <th>1</th>\n",
       "      <td>0.250000</td>\n",
       "      <td>0.250000</td>\n",
       "      <td>0.250000</td>\n",
       "      <td>0.571429</td>\n",
       "      <td>ANN model - Cleansed description</td>\n",
       "      <td>No</td>\n",
       "    </tr>\n",
       "    <tr>\n",
       "      <th>2</th>\n",
       "      <td>0.000000</td>\n",
       "      <td>0.000000</td>\n",
       "      <td>0.000000</td>\n",
       "      <td>0.571429</td>\n",
       "      <td>ANN model - Cleansed description</td>\n",
       "      <td>No</td>\n",
       "    </tr>\n",
       "    <tr>\n",
       "      <th>3</th>\n",
       "      <td>0.166667</td>\n",
       "      <td>0.166667</td>\n",
       "      <td>0.166667</td>\n",
       "      <td>0.571429</td>\n",
       "      <td>ANN model - Cleansed description</td>\n",
       "      <td>No</td>\n",
       "    </tr>\n",
       "    <tr>\n",
       "      <th>4</th>\n",
       "      <td>0.000000</td>\n",
       "      <td>0.000000</td>\n",
       "      <td>0.000000</td>\n",
       "      <td>0.571429</td>\n",
       "      <td>ANN model - Cleansed description</td>\n",
       "      <td>No</td>\n",
       "    </tr>\n",
       "    <tr>\n",
       "      <th>0</th>\n",
       "      <td>0.708333</td>\n",
       "      <td>0.548387</td>\n",
       "      <td>0.618182</td>\n",
       "      <td>0.440476</td>\n",
       "      <td>ANN model - Cleansed description with resampling</td>\n",
       "      <td>Yes</td>\n",
       "    </tr>\n",
       "    <tr>\n",
       "      <th>1</th>\n",
       "      <td>0.090909</td>\n",
       "      <td>0.250000</td>\n",
       "      <td>0.133333</td>\n",
       "      <td>0.440476</td>\n",
       "      <td>ANN model - Cleansed description with resampling</td>\n",
       "      <td>Yes</td>\n",
       "    </tr>\n",
       "    <tr>\n",
       "      <th>2</th>\n",
       "      <td>0.000000</td>\n",
       "      <td>0.000000</td>\n",
       "      <td>0.000000</td>\n",
       "      <td>0.440476</td>\n",
       "      <td>ANN model - Cleansed description with resampling</td>\n",
       "      <td>Yes</td>\n",
       "    </tr>\n",
       "    <tr>\n",
       "      <th>3</th>\n",
       "      <td>0.125000</td>\n",
       "      <td>0.166667</td>\n",
       "      <td>0.142857</td>\n",
       "      <td>0.440476</td>\n",
       "      <td>ANN model - Cleansed description with resampling</td>\n",
       "      <td>Yes</td>\n",
       "    </tr>\n",
       "    <tr>\n",
       "      <th>4</th>\n",
       "      <td>0.000000</td>\n",
       "      <td>0.000000</td>\n",
       "      <td>0.000000</td>\n",
       "      <td>0.440476</td>\n",
       "      <td>ANN model - Cleansed description with resampling</td>\n",
       "      <td>Yes</td>\n",
       "    </tr>\n",
       "    <tr>\n",
       "      <th>0</th>\n",
       "      <td>0.738095</td>\n",
       "      <td>1.000000</td>\n",
       "      <td>0.849315</td>\n",
       "      <td>0.738095</td>\n",
       "      <td>RNN model - Cleansed description</td>\n",
       "      <td>No</td>\n",
       "    </tr>\n",
       "    <tr>\n",
       "      <th>1</th>\n",
       "      <td>0.000000</td>\n",
       "      <td>0.000000</td>\n",
       "      <td>0.000000</td>\n",
       "      <td>0.738095</td>\n",
       "      <td>RNN model - Cleansed description</td>\n",
       "      <td>No</td>\n",
       "    </tr>\n",
       "    <tr>\n",
       "      <th>2</th>\n",
       "      <td>0.000000</td>\n",
       "      <td>0.000000</td>\n",
       "      <td>0.000000</td>\n",
       "      <td>0.738095</td>\n",
       "      <td>RNN model - Cleansed description</td>\n",
       "      <td>No</td>\n",
       "    </tr>\n",
       "    <tr>\n",
       "      <th>3</th>\n",
       "      <td>0.000000</td>\n",
       "      <td>0.000000</td>\n",
       "      <td>0.000000</td>\n",
       "      <td>0.738095</td>\n",
       "      <td>RNN model - Cleansed description</td>\n",
       "      <td>No</td>\n",
       "    </tr>\n",
       "    <tr>\n",
       "      <th>4</th>\n",
       "      <td>0.000000</td>\n",
       "      <td>0.000000</td>\n",
       "      <td>0.000000</td>\n",
       "      <td>0.738095</td>\n",
       "      <td>RNN model - Cleansed description</td>\n",
       "      <td>No</td>\n",
       "    </tr>\n",
       "    <tr>\n",
       "      <th>0</th>\n",
       "      <td>0.857143</td>\n",
       "      <td>0.096774</td>\n",
       "      <td>0.173913</td>\n",
       "      <td>0.142857</td>\n",
       "      <td>RNN model - Cleansed description with resampling</td>\n",
       "      <td>Yes</td>\n",
       "    </tr>\n",
       "    <tr>\n",
       "      <th>1</th>\n",
       "      <td>0.093023</td>\n",
       "      <td>0.500000</td>\n",
       "      <td>0.156863</td>\n",
       "      <td>0.142857</td>\n",
       "      <td>RNN model - Cleansed description with resampling</td>\n",
       "      <td>Yes</td>\n",
       "    </tr>\n",
       "    <tr>\n",
       "      <th>2</th>\n",
       "      <td>0.076923</td>\n",
       "      <td>0.166667</td>\n",
       "      <td>0.105263</td>\n",
       "      <td>0.142857</td>\n",
       "      <td>RNN model - Cleansed description with resampling</td>\n",
       "      <td>Yes</td>\n",
       "    </tr>\n",
       "    <tr>\n",
       "      <th>3</th>\n",
       "      <td>0.047619</td>\n",
       "      <td>0.166667</td>\n",
       "      <td>0.074074</td>\n",
       "      <td>0.142857</td>\n",
       "      <td>RNN model - Cleansed description with resampling</td>\n",
       "      <td>Yes</td>\n",
       "    </tr>\n",
       "    <tr>\n",
       "      <th>4</th>\n",
       "      <td>0.000000</td>\n",
       "      <td>0.000000</td>\n",
       "      <td>0.000000</td>\n",
       "      <td>0.142857</td>\n",
       "      <td>RNN model - Cleansed description with resampling</td>\n",
       "      <td>Yes</td>\n",
       "    </tr>\n",
       "    <tr>\n",
       "      <th>0</th>\n",
       "      <td>0.738095</td>\n",
       "      <td>1.000000</td>\n",
       "      <td>0.849315</td>\n",
       "      <td>0.738095</td>\n",
       "      <td>RNN model - Cleansed description with resampli...</td>\n",
       "      <td>Yes</td>\n",
       "    </tr>\n",
       "    <tr>\n",
       "      <th>1</th>\n",
       "      <td>0.000000</td>\n",
       "      <td>0.000000</td>\n",
       "      <td>0.000000</td>\n",
       "      <td>0.738095</td>\n",
       "      <td>RNN model - Cleansed description with resampli...</td>\n",
       "      <td>Yes</td>\n",
       "    </tr>\n",
       "    <tr>\n",
       "      <th>2</th>\n",
       "      <td>0.000000</td>\n",
       "      <td>0.000000</td>\n",
       "      <td>0.000000</td>\n",
       "      <td>0.738095</td>\n",
       "      <td>RNN model - Cleansed description with resampli...</td>\n",
       "      <td>Yes</td>\n",
       "    </tr>\n",
       "    <tr>\n",
       "      <th>3</th>\n",
       "      <td>0.000000</td>\n",
       "      <td>0.000000</td>\n",
       "      <td>0.000000</td>\n",
       "      <td>0.738095</td>\n",
       "      <td>RNN model - Cleansed description with resampli...</td>\n",
       "      <td>Yes</td>\n",
       "    </tr>\n",
       "    <tr>\n",
       "      <th>4</th>\n",
       "      <td>0.000000</td>\n",
       "      <td>0.000000</td>\n",
       "      <td>0.000000</td>\n",
       "      <td>0.738095</td>\n",
       "      <td>RNN model - Cleansed description with resampli...</td>\n",
       "      <td>Yes</td>\n",
       "    </tr>\n",
       "    <tr>\n",
       "      <th>0</th>\n",
       "      <td>0.738095</td>\n",
       "      <td>1.000000</td>\n",
       "      <td>0.849315</td>\n",
       "      <td>0.738095</td>\n",
       "      <td>RNN model - Cleansed description with resampli...</td>\n",
       "      <td>Yes</td>\n",
       "    </tr>\n",
       "    <tr>\n",
       "      <th>1</th>\n",
       "      <td>0.000000</td>\n",
       "      <td>0.000000</td>\n",
       "      <td>0.000000</td>\n",
       "      <td>0.738095</td>\n",
       "      <td>RNN model - Cleansed description with resampli...</td>\n",
       "      <td>Yes</td>\n",
       "    </tr>\n",
       "    <tr>\n",
       "      <th>2</th>\n",
       "      <td>0.000000</td>\n",
       "      <td>0.000000</td>\n",
       "      <td>0.000000</td>\n",
       "      <td>0.738095</td>\n",
       "      <td>RNN model - Cleansed description with resampli...</td>\n",
       "      <td>Yes</td>\n",
       "    </tr>\n",
       "    <tr>\n",
       "      <th>3</th>\n",
       "      <td>0.000000</td>\n",
       "      <td>0.000000</td>\n",
       "      <td>0.000000</td>\n",
       "      <td>0.738095</td>\n",
       "      <td>RNN model - Cleansed description with resampli...</td>\n",
       "      <td>Yes</td>\n",
       "    </tr>\n",
       "    <tr>\n",
       "      <th>4</th>\n",
       "      <td>0.000000</td>\n",
       "      <td>0.000000</td>\n",
       "      <td>0.000000</td>\n",
       "      <td>0.738095</td>\n",
       "      <td>RNN model - Cleansed description with resampli...</td>\n",
       "      <td>Yes</td>\n",
       "    </tr>\n",
       "    <tr>\n",
       "      <th>0</th>\n",
       "      <td>0.738095</td>\n",
       "      <td>1.000000</td>\n",
       "      <td>0.849315</td>\n",
       "      <td>0.738095</td>\n",
       "      <td>LSTM model - Cleansed description with resampl...</td>\n",
       "      <td>Yes</td>\n",
       "    </tr>\n",
       "    <tr>\n",
       "      <th>1</th>\n",
       "      <td>0.000000</td>\n",
       "      <td>0.000000</td>\n",
       "      <td>0.000000</td>\n",
       "      <td>0.738095</td>\n",
       "      <td>LSTM model - Cleansed description with resampl...</td>\n",
       "      <td>Yes</td>\n",
       "    </tr>\n",
       "    <tr>\n",
       "      <th>2</th>\n",
       "      <td>0.000000</td>\n",
       "      <td>0.000000</td>\n",
       "      <td>0.000000</td>\n",
       "      <td>0.738095</td>\n",
       "      <td>LSTM model - Cleansed description with resampl...</td>\n",
       "      <td>Yes</td>\n",
       "    </tr>\n",
       "    <tr>\n",
       "      <th>3</th>\n",
       "      <td>0.000000</td>\n",
       "      <td>0.000000</td>\n",
       "      <td>0.000000</td>\n",
       "      <td>0.738095</td>\n",
       "      <td>LSTM model - Cleansed description with resampl...</td>\n",
       "      <td>Yes</td>\n",
       "    </tr>\n",
       "    <tr>\n",
       "      <th>4</th>\n",
       "      <td>0.000000</td>\n",
       "      <td>0.000000</td>\n",
       "      <td>0.000000</td>\n",
       "      <td>0.738095</td>\n",
       "      <td>LSTM model - Cleansed description with resampl...</td>\n",
       "      <td>Yes</td>\n",
       "    </tr>\n",
       "    <tr>\n",
       "      <th>0</th>\n",
       "      <td>0.760000</td>\n",
       "      <td>0.919355</td>\n",
       "      <td>0.832117</td>\n",
       "      <td>0.702381</td>\n",
       "      <td>LSTM model - Cleansed description + Categorica...</td>\n",
       "      <td>Yes</td>\n",
       "    </tr>\n",
       "    <tr>\n",
       "      <th>1</th>\n",
       "      <td>0.250000</td>\n",
       "      <td>0.125000</td>\n",
       "      <td>0.166667</td>\n",
       "      <td>0.702381</td>\n",
       "      <td>LSTM model - Cleansed description + Categorica...</td>\n",
       "      <td>Yes</td>\n",
       "    </tr>\n",
       "    <tr>\n",
       "      <th>2</th>\n",
       "      <td>0.500000</td>\n",
       "      <td>0.166667</td>\n",
       "      <td>0.250000</td>\n",
       "      <td>0.702381</td>\n",
       "      <td>LSTM model - Cleansed description + Categorica...</td>\n",
       "      <td>Yes</td>\n",
       "    </tr>\n",
       "    <tr>\n",
       "      <th>3</th>\n",
       "      <td>0.000000</td>\n",
       "      <td>0.000000</td>\n",
       "      <td>0.000000</td>\n",
       "      <td>0.702381</td>\n",
       "      <td>LSTM model - Cleansed description + Categorica...</td>\n",
       "      <td>Yes</td>\n",
       "    </tr>\n",
       "    <tr>\n",
       "      <th>4</th>\n",
       "      <td>0.000000</td>\n",
       "      <td>0.000000</td>\n",
       "      <td>0.000000</td>\n",
       "      <td>0.702381</td>\n",
       "      <td>LSTM model - Cleansed description + Categorica...</td>\n",
       "      <td>Yes</td>\n",
       "    </tr>\n",
       "  </tbody>\n",
       "</table>\n",
       "</div>\n",
       "    <div class=\"colab-df-buttons\">\n",
       "\n",
       "  <div class=\"colab-df-container\">\n",
       "    <button class=\"colab-df-convert\" onclick=\"convertToInteractive('df-9b1e55e7-9f01-4766-8a57-01bb50185c4b')\"\n",
       "            title=\"Convert this dataframe to an interactive table.\"\n",
       "            style=\"display:none;\">\n",
       "\n",
       "  <svg xmlns=\"http://www.w3.org/2000/svg\" height=\"24px\" viewBox=\"0 -960 960 960\">\n",
       "    <path d=\"M120-120v-720h720v720H120Zm60-500h600v-160H180v160Zm220 220h160v-160H400v160Zm0 220h160v-160H400v160ZM180-400h160v-160H180v160Zm440 0h160v-160H620v160ZM180-180h160v-160H180v160Zm440 0h160v-160H620v160Z\"/>\n",
       "  </svg>\n",
       "    </button>\n",
       "\n",
       "  <style>\n",
       "    .colab-df-container {\n",
       "      display:flex;\n",
       "      gap: 12px;\n",
       "    }\n",
       "\n",
       "    .colab-df-convert {\n",
       "      background-color: #E8F0FE;\n",
       "      border: none;\n",
       "      border-radius: 50%;\n",
       "      cursor: pointer;\n",
       "      display: none;\n",
       "      fill: #1967D2;\n",
       "      height: 32px;\n",
       "      padding: 0 0 0 0;\n",
       "      width: 32px;\n",
       "    }\n",
       "\n",
       "    .colab-df-convert:hover {\n",
       "      background-color: #E2EBFA;\n",
       "      box-shadow: 0px 1px 2px rgba(60, 64, 67, 0.3), 0px 1px 3px 1px rgba(60, 64, 67, 0.15);\n",
       "      fill: #174EA6;\n",
       "    }\n",
       "\n",
       "    .colab-df-buttons div {\n",
       "      margin-bottom: 4px;\n",
       "    }\n",
       "\n",
       "    [theme=dark] .colab-df-convert {\n",
       "      background-color: #3B4455;\n",
       "      fill: #D2E3FC;\n",
       "    }\n",
       "\n",
       "    [theme=dark] .colab-df-convert:hover {\n",
       "      background-color: #434B5C;\n",
       "      box-shadow: 0px 1px 3px 1px rgba(0, 0, 0, 0.15);\n",
       "      filter: drop-shadow(0px 1px 2px rgba(0, 0, 0, 0.3));\n",
       "      fill: #FFFFFF;\n",
       "    }\n",
       "  </style>\n",
       "\n",
       "    <script>\n",
       "      const buttonEl =\n",
       "        document.querySelector('#df-9b1e55e7-9f01-4766-8a57-01bb50185c4b button.colab-df-convert');\n",
       "      buttonEl.style.display =\n",
       "        google.colab.kernel.accessAllowed ? 'block' : 'none';\n",
       "\n",
       "      async function convertToInteractive(key) {\n",
       "        const element = document.querySelector('#df-9b1e55e7-9f01-4766-8a57-01bb50185c4b');\n",
       "        const dataTable =\n",
       "          await google.colab.kernel.invokeFunction('convertToInteractive',\n",
       "                                                    [key], {});\n",
       "        if (!dataTable) return;\n",
       "\n",
       "        const docLinkHtml = 'Like what you see? Visit the ' +\n",
       "          '<a target=\"_blank\" href=https://colab.research.google.com/notebooks/data_table.ipynb>data table notebook</a>'\n",
       "          + ' to learn more about interactive tables.';\n",
       "        element.innerHTML = '';\n",
       "        dataTable['output_type'] = 'display_data';\n",
       "        await google.colab.output.renderOutput(dataTable, element);\n",
       "        const docLink = document.createElement('div');\n",
       "        docLink.innerHTML = docLinkHtml;\n",
       "        element.appendChild(docLink);\n",
       "      }\n",
       "    </script>\n",
       "  </div>\n",
       "\n",
       "\n",
       "<div id=\"df-a08fa714-17b3-4f95-b80a-89fde257baee\">\n",
       "  <button class=\"colab-df-quickchart\" onclick=\"quickchart('df-a08fa714-17b3-4f95-b80a-89fde257baee')\"\n",
       "            title=\"Suggest charts\"\n",
       "            style=\"display:none;\">\n",
       "\n",
       "<svg xmlns=\"http://www.w3.org/2000/svg\" height=\"24px\"viewBox=\"0 0 24 24\"\n",
       "     width=\"24px\">\n",
       "    <g>\n",
       "        <path d=\"M19 3H5c-1.1 0-2 .9-2 2v14c0 1.1.9 2 2 2h14c1.1 0 2-.9 2-2V5c0-1.1-.9-2-2-2zM9 17H7v-7h2v7zm4 0h-2V7h2v10zm4 0h-2v-4h2v4z\"/>\n",
       "    </g>\n",
       "</svg>\n",
       "  </button>\n",
       "\n",
       "<style>\n",
       "  .colab-df-quickchart {\n",
       "      --bg-color: #E8F0FE;\n",
       "      --fill-color: #1967D2;\n",
       "      --hover-bg-color: #E2EBFA;\n",
       "      --hover-fill-color: #174EA6;\n",
       "      --disabled-fill-color: #AAA;\n",
       "      --disabled-bg-color: #DDD;\n",
       "  }\n",
       "\n",
       "  [theme=dark] .colab-df-quickchart {\n",
       "      --bg-color: #3B4455;\n",
       "      --fill-color: #D2E3FC;\n",
       "      --hover-bg-color: #434B5C;\n",
       "      --hover-fill-color: #FFFFFF;\n",
       "      --disabled-bg-color: #3B4455;\n",
       "      --disabled-fill-color: #666;\n",
       "  }\n",
       "\n",
       "  .colab-df-quickchart {\n",
       "    background-color: var(--bg-color);\n",
       "    border: none;\n",
       "    border-radius: 50%;\n",
       "    cursor: pointer;\n",
       "    display: none;\n",
       "    fill: var(--fill-color);\n",
       "    height: 32px;\n",
       "    padding: 0;\n",
       "    width: 32px;\n",
       "  }\n",
       "\n",
       "  .colab-df-quickchart:hover {\n",
       "    background-color: var(--hover-bg-color);\n",
       "    box-shadow: 0 1px 2px rgba(60, 64, 67, 0.3), 0 1px 3px 1px rgba(60, 64, 67, 0.15);\n",
       "    fill: var(--button-hover-fill-color);\n",
       "  }\n",
       "\n",
       "  .colab-df-quickchart-complete:disabled,\n",
       "  .colab-df-quickchart-complete:disabled:hover {\n",
       "    background-color: var(--disabled-bg-color);\n",
       "    fill: var(--disabled-fill-color);\n",
       "    box-shadow: none;\n",
       "  }\n",
       "\n",
       "  .colab-df-spinner {\n",
       "    border: 2px solid var(--fill-color);\n",
       "    border-color: transparent;\n",
       "    border-bottom-color: var(--fill-color);\n",
       "    animation:\n",
       "      spin 1s steps(1) infinite;\n",
       "  }\n",
       "\n",
       "  @keyframes spin {\n",
       "    0% {\n",
       "      border-color: transparent;\n",
       "      border-bottom-color: var(--fill-color);\n",
       "      border-left-color: var(--fill-color);\n",
       "    }\n",
       "    20% {\n",
       "      border-color: transparent;\n",
       "      border-left-color: var(--fill-color);\n",
       "      border-top-color: var(--fill-color);\n",
       "    }\n",
       "    30% {\n",
       "      border-color: transparent;\n",
       "      border-left-color: var(--fill-color);\n",
       "      border-top-color: var(--fill-color);\n",
       "      border-right-color: var(--fill-color);\n",
       "    }\n",
       "    40% {\n",
       "      border-color: transparent;\n",
       "      border-right-color: var(--fill-color);\n",
       "      border-top-color: var(--fill-color);\n",
       "    }\n",
       "    60% {\n",
       "      border-color: transparent;\n",
       "      border-right-color: var(--fill-color);\n",
       "    }\n",
       "    80% {\n",
       "      border-color: transparent;\n",
       "      border-right-color: var(--fill-color);\n",
       "      border-bottom-color: var(--fill-color);\n",
       "    }\n",
       "    90% {\n",
       "      border-color: transparent;\n",
       "      border-bottom-color: var(--fill-color);\n",
       "    }\n",
       "  }\n",
       "</style>\n",
       "\n",
       "  <script>\n",
       "    async function quickchart(key) {\n",
       "      const quickchartButtonEl =\n",
       "        document.querySelector('#' + key + ' button');\n",
       "      quickchartButtonEl.disabled = true;  // To prevent multiple clicks.\n",
       "      quickchartButtonEl.classList.add('colab-df-spinner');\n",
       "      try {\n",
       "        const charts = await google.colab.kernel.invokeFunction(\n",
       "            'suggestCharts', [key], {});\n",
       "      } catch (error) {\n",
       "        console.error('Error during call to suggestCharts:', error);\n",
       "      }\n",
       "      quickchartButtonEl.classList.remove('colab-df-spinner');\n",
       "      quickchartButtonEl.classList.add('colab-df-quickchart-complete');\n",
       "    }\n",
       "    (() => {\n",
       "      let quickchartButtonEl =\n",
       "        document.querySelector('#df-a08fa714-17b3-4f95-b80a-89fde257baee button');\n",
       "      quickchartButtonEl.style.display =\n",
       "        google.colab.kernel.accessAllowed ? 'block' : 'none';\n",
       "    })();\n",
       "  </script>\n",
       "</div>\n",
       "\n",
       "  <div id=\"id_d5add826-f6ad-42db-b4a4-2c0f75d6610b\">\n",
       "    <style>\n",
       "      .colab-df-generate {\n",
       "        background-color: #E8F0FE;\n",
       "        border: none;\n",
       "        border-radius: 50%;\n",
       "        cursor: pointer;\n",
       "        display: none;\n",
       "        fill: #1967D2;\n",
       "        height: 32px;\n",
       "        padding: 0 0 0 0;\n",
       "        width: 32px;\n",
       "      }\n",
       "\n",
       "      .colab-df-generate:hover {\n",
       "        background-color: #E2EBFA;\n",
       "        box-shadow: 0px 1px 2px rgba(60, 64, 67, 0.3), 0px 1px 3px 1px rgba(60, 64, 67, 0.15);\n",
       "        fill: #174EA6;\n",
       "      }\n",
       "\n",
       "      [theme=dark] .colab-df-generate {\n",
       "        background-color: #3B4455;\n",
       "        fill: #D2E3FC;\n",
       "      }\n",
       "\n",
       "      [theme=dark] .colab-df-generate:hover {\n",
       "        background-color: #434B5C;\n",
       "        box-shadow: 0px 1px 3px 1px rgba(0, 0, 0, 0.15);\n",
       "        filter: drop-shadow(0px 1px 2px rgba(0, 0, 0, 0.3));\n",
       "        fill: #FFFFFF;\n",
       "      }\n",
       "    </style>\n",
       "    <button class=\"colab-df-generate\" onclick=\"generateWithVariable('stacked_results')\"\n",
       "            title=\"Generate code using this dataframe.\"\n",
       "            style=\"display:none;\">\n",
       "\n",
       "  <svg xmlns=\"http://www.w3.org/2000/svg\" height=\"24px\"viewBox=\"0 0 24 24\"\n",
       "       width=\"24px\">\n",
       "    <path d=\"M7,19H8.4L18.45,9,17,7.55,7,17.6ZM5,21V16.75L18.45,3.32a2,2,0,0,1,2.83,0l1.4,1.43a1.91,1.91,0,0,1,.58,1.4,1.91,1.91,0,0,1-.58,1.4L9.25,21ZM18.45,9,17,7.55Zm-12,3A5.31,5.31,0,0,0,4.9,8.1,5.31,5.31,0,0,0,1,6.5,5.31,5.31,0,0,0,4.9,4.9,5.31,5.31,0,0,0,6.5,1,5.31,5.31,0,0,0,8.1,4.9,5.31,5.31,0,0,0,12,6.5,5.46,5.46,0,0,0,6.5,12Z\"/>\n",
       "  </svg>\n",
       "    </button>\n",
       "    <script>\n",
       "      (() => {\n",
       "      const buttonEl =\n",
       "        document.querySelector('#id_d5add826-f6ad-42db-b4a4-2c0f75d6610b button.colab-df-generate');\n",
       "      buttonEl.style.display =\n",
       "        google.colab.kernel.accessAllowed ? 'block' : 'none';\n",
       "\n",
       "      buttonEl.onclick = () => {\n",
       "        google.colab.notebook.generateWithVariable('stacked_results');\n",
       "      }\n",
       "      })();\n",
       "    </script>\n",
       "  </div>\n",
       "\n",
       "    </div>\n",
       "  </div>\n"
      ],
      "text/plain": [
       "   precision    recall  f1-score  accuracy  \\\n",
       "0   0.737705  0.725806  0.731707  0.571429   \n",
       "1   0.250000  0.250000  0.250000  0.571429   \n",
       "2   0.000000  0.000000  0.000000  0.571429   \n",
       "3   0.166667  0.166667  0.166667  0.571429   \n",
       "4   0.000000  0.000000  0.000000  0.571429   \n",
       "0   0.708333  0.548387  0.618182  0.440476   \n",
       "1   0.090909  0.250000  0.133333  0.440476   \n",
       "2   0.000000  0.000000  0.000000  0.440476   \n",
       "3   0.125000  0.166667  0.142857  0.440476   \n",
       "4   0.000000  0.000000  0.000000  0.440476   \n",
       "0   0.738095  1.000000  0.849315  0.738095   \n",
       "1   0.000000  0.000000  0.000000  0.738095   \n",
       "2   0.000000  0.000000  0.000000  0.738095   \n",
       "3   0.000000  0.000000  0.000000  0.738095   \n",
       "4   0.000000  0.000000  0.000000  0.738095   \n",
       "0   0.857143  0.096774  0.173913  0.142857   \n",
       "1   0.093023  0.500000  0.156863  0.142857   \n",
       "2   0.076923  0.166667  0.105263  0.142857   \n",
       "3   0.047619  0.166667  0.074074  0.142857   \n",
       "4   0.000000  0.000000  0.000000  0.142857   \n",
       "0   0.738095  1.000000  0.849315  0.738095   \n",
       "1   0.000000  0.000000  0.000000  0.738095   \n",
       "2   0.000000  0.000000  0.000000  0.738095   \n",
       "3   0.000000  0.000000  0.000000  0.738095   \n",
       "4   0.000000  0.000000  0.000000  0.738095   \n",
       "0   0.738095  1.000000  0.849315  0.738095   \n",
       "1   0.000000  0.000000  0.000000  0.738095   \n",
       "2   0.000000  0.000000  0.000000  0.738095   \n",
       "3   0.000000  0.000000  0.000000  0.738095   \n",
       "4   0.000000  0.000000  0.000000  0.738095   \n",
       "0   0.738095  1.000000  0.849315  0.738095   \n",
       "1   0.000000  0.000000  0.000000  0.738095   \n",
       "2   0.000000  0.000000  0.000000  0.738095   \n",
       "3   0.000000  0.000000  0.000000  0.738095   \n",
       "4   0.000000  0.000000  0.000000  0.738095   \n",
       "0   0.760000  0.919355  0.832117  0.702381   \n",
       "1   0.250000  0.125000  0.166667  0.702381   \n",
       "2   0.500000  0.166667  0.250000  0.702381   \n",
       "3   0.000000  0.000000  0.000000  0.702381   \n",
       "4   0.000000  0.000000  0.000000  0.702381   \n",
       "\n",
       "                                               Model Resampled  \n",
       "0                   ANN model - Cleansed description        No  \n",
       "1                   ANN model - Cleansed description        No  \n",
       "2                   ANN model - Cleansed description        No  \n",
       "3                   ANN model - Cleansed description        No  \n",
       "4                   ANN model - Cleansed description        No  \n",
       "0   ANN model - Cleansed description with resampling       Yes  \n",
       "1   ANN model - Cleansed description with resampling       Yes  \n",
       "2   ANN model - Cleansed description with resampling       Yes  \n",
       "3   ANN model - Cleansed description with resampling       Yes  \n",
       "4   ANN model - Cleansed description with resampling       Yes  \n",
       "0                   RNN model - Cleansed description        No  \n",
       "1                   RNN model - Cleansed description        No  \n",
       "2                   RNN model - Cleansed description        No  \n",
       "3                   RNN model - Cleansed description        No  \n",
       "4                   RNN model - Cleansed description        No  \n",
       "0   RNN model - Cleansed description with resampling       Yes  \n",
       "1   RNN model - Cleansed description with resampling       Yes  \n",
       "2   RNN model - Cleansed description with resampling       Yes  \n",
       "3   RNN model - Cleansed description with resampling       Yes  \n",
       "4   RNN model - Cleansed description with resampling       Yes  \n",
       "0  RNN model - Cleansed description with resampli...       Yes  \n",
       "1  RNN model - Cleansed description with resampli...       Yes  \n",
       "2  RNN model - Cleansed description with resampli...       Yes  \n",
       "3  RNN model - Cleansed description with resampli...       Yes  \n",
       "4  RNN model - Cleansed description with resampli...       Yes  \n",
       "0  RNN model - Cleansed description with resampli...       Yes  \n",
       "1  RNN model - Cleansed description with resampli...       Yes  \n",
       "2  RNN model - Cleansed description with resampli...       Yes  \n",
       "3  RNN model - Cleansed description with resampli...       Yes  \n",
       "4  RNN model - Cleansed description with resampli...       Yes  \n",
       "0  LSTM model - Cleansed description with resampl...       Yes  \n",
       "1  LSTM model - Cleansed description with resampl...       Yes  \n",
       "2  LSTM model - Cleansed description with resampl...       Yes  \n",
       "3  LSTM model - Cleansed description with resampl...       Yes  \n",
       "4  LSTM model - Cleansed description with resampl...       Yes  \n",
       "0  LSTM model - Cleansed description + Categorica...       Yes  \n",
       "1  LSTM model - Cleansed description + Categorica...       Yes  \n",
       "2  LSTM model - Cleansed description + Categorica...       Yes  \n",
       "3  LSTM model - Cleansed description + Categorica...       Yes  \n",
       "4  LSTM model - Cleansed description + Categorica...       Yes  "
      ]
     },
     "execution_count": 132,
     "metadata": {},
     "output_type": "execute_result"
    }
   ],
   "source": [
    "model1 = classification_report(test_y, y_pred_classes_ann, output_dict=True)\n",
    "model1 = pd.DataFrame(model1).transpose()\n",
    "model1.drop(['macro avg','weighted avg'],inplace=True)\n",
    "model1['accuracy'] = model1.iloc[5,1]\n",
    "model1.drop(['accuracy'],inplace=True)\n",
    "model1.drop(['support'],axis=1,inplace=True)\n",
    "model1['Model'] ='ANN model - Cleansed description'\n",
    "model1['Resampled'] ='No'\n",
    "model1.reset_index()\n",
    "# *******\n",
    "model2 = classification_report(test_y, y_pred_classes_ann_resampled, output_dict=True)\n",
    "model2 = pd.DataFrame(model2).transpose()\n",
    "model2.drop(['macro avg','weighted avg'],inplace=True)\n",
    "model2['accuracy'] = model2.iloc[5,1]\n",
    "model2.drop(['accuracy'],inplace=True)\n",
    "model2.drop(['support'],axis=1,inplace=True)\n",
    "model2['Model'] ='ANN model - Cleansed description with resampling'\n",
    "model2['Resampled'] ='Yes'\n",
    "model2.reset_index()\n",
    "# *******\n",
    "model3 = classification_report(test_y, y_pred_classes_rnn, output_dict=True)\n",
    "model3 = pd.DataFrame(model3).transpose()\n",
    "model3.drop(['macro avg','weighted avg'],inplace=True)\n",
    "model3['accuracy'] = model3.iloc[5,1]\n",
    "model3.drop(['accuracy'],inplace=True)\n",
    "model3.drop(['support'],axis=1,inplace=True)\n",
    "model3['Model'] ='RNN model - Cleansed description'\n",
    "model3['Resampled'] ='No'\n",
    "model3.reset_index()\n",
    "# *******\n",
    "model4 = classification_report(test_y, y_pred_classes_rnn_resampled, output_dict=True)\n",
    "model4 = pd.DataFrame(model4).transpose()\n",
    "model4.drop(['macro avg','weighted avg'],inplace=True)\n",
    "model4['accuracy'] = model4.iloc[5,1]\n",
    "model4.drop(['accuracy'],inplace=True)\n",
    "model4.drop(['support'],axis=1,inplace=True)\n",
    "model4['Model'] ='RNN model - Cleansed description with resampling'\n",
    "model4['Resampled'] ='Yes'\n",
    "model4.reset_index()\n",
    "# *******\n",
    "model5 = classification_report(test_y, y_pred_classes_rnn_embedding, output_dict=True)\n",
    "model5 = pd.DataFrame(model5).transpose()\n",
    "model5.drop(['macro avg','weighted avg'],inplace=True)\n",
    "model5['accuracy'] = model5.iloc[5,1]\n",
    "model5.drop(['accuracy'],inplace=True)\n",
    "model5.drop(['support'],axis=1,inplace=True)\n",
    "model5['Model'] ='RNN model - Cleansed description with resampling + Embedding'\n",
    "model5['Resampled'] ='Yes'\n",
    "model5.reset_index()\n",
    "# *******\n",
    "model6 = classification_report(test_y, y_pred_classes_rnn_embedding_w2v, output_dict=True)\n",
    "model6 = pd.DataFrame(model6).transpose()\n",
    "model6.drop(['macro avg','weighted avg'],inplace=True)\n",
    "model6['accuracy'] = model6.iloc[5,1]\n",
    "model6.drop(['accuracy'],inplace=True)\n",
    "model6.drop(['support'],axis=1,inplace=True)\n",
    "model6['Model'] ='RNN model - Cleansed description with resampling + Pre trained W2V Embedding'\n",
    "model6['Resampled'] ='Yes'\n",
    "model6.reset_index()\n",
    "# *******\n",
    "model7 = classification_report(test_y, y_pred_classes_LSTM_w2v, output_dict=True)\n",
    "model7 = pd.DataFrame(model7).transpose()\n",
    "model7.drop(['macro avg','weighted avg'],inplace=True)\n",
    "model7['accuracy'] = model7.iloc[5,1]\n",
    "model7.drop(['accuracy'],inplace=True)\n",
    "model7.drop(['support'],axis=1,inplace=True)\n",
    "model7['Model'] ='LSTM model - Cleansed description with resampling + Pre trained W2V Embedding'\n",
    "model7['Resampled'] ='Yes'\n",
    "model7.reset_index()\n",
    "# *******\n",
    "model8 = classification_report(test_y, predicted_classes, output_dict=True)\n",
    "model8 = pd.DataFrame(model8).transpose()\n",
    "model8.drop(['macro avg','weighted avg'],inplace=True)\n",
    "model8['accuracy'] = model8.iloc[5,1]\n",
    "model8.drop(['accuracy'],inplace=True)\n",
    "model8.drop(['support'],axis=1,inplace=True)\n",
    "model8['Model'] ='LSTM model - Cleansed description + Categorical variables with resampling + Pre trained W2V Embedding'\n",
    "model8['Resampled'] ='Yes'\n",
    "model8.reset_index()\n",
    "# *******\n",
    "stacked_results = pd.concat([\n",
    "    model1,\n",
    "    model2,\n",
    "    model3,\n",
    "    model4,\n",
    "    model5,\n",
    "    model6,\n",
    "    model7,\n",
    "    model8\n",
    "    ])\n",
    "\n",
    "stacked_results"
   ]
  },
  {
   "cell_type": "code",
   "execution_count": 131,
   "metadata": {
    "colab": {
     "base_uri": "https://localhost:8080/",
     "height": 1000
    },
    "id": "_9z33BsFgET2",
    "outputId": "bcc4828c-0708-4f52-acfc-d13616bff73e"
   },
   "outputs": [
    {
     "data": {
      "image/png": "[encoded data removed]",
      "text/plain": [
       "<Figure size 2000x2000 with 4 Axes>"
      ]
     },
     "metadata": {},
     "output_type": "display_data"
    },
    {
     "data": {
      "image/png": "[encoded data removed]",
      "text/plain": [
       "<Figure size 800x600 with 1 Axes>"
      ]
     },
     "metadata": {},
     "output_type": "display_data"
    },
    {
     "data": {
      "image/png": "[encoded data removed]",
      "text/plain": [
       "<Figure size 800x600 with 2 Axes>"
      ]
     },
     "metadata": {},
     "output_type": "display_data"
    }
   ],
   "source": [
    "sns.set_style(\"whitegrid\")\n",
    "\n",
    "grouped_data = stacked_results.groupby(['Model', 'Resampled']).mean().reset_index()\n",
    "\n",
    "# Visualization 1: Performance Metrics Bar Chart\n",
    "plt.figure(figsize=(20, 20))\n",
    "metrics = ['precision', 'recall', 'f1-score', 'accuracy']\n",
    "for i, metric in enumerate(metrics, 1):\n",
    "    plt.subplot(2, 2, i)\n",
    "    sns.barplot(data=grouped_data, x='Model', y=metric, hue='Resampled')\n",
    "    plt.xticks(rotation=45, ha=\"right\")\n",
    "    plt.title(f'{metric.capitalize()} by Model and Resampling')\n",
    "    plt.ylabel(metric.capitalize())\n",
    "    plt.xlabel('Model')\n",
    "\n",
    "plt.tight_layout()\n",
    "plt.show()\n",
    "\n",
    "# Visualization 2: Recall Distribution\n",
    "plt.figure(figsize=(8, 6))\n",
    "sns.histplot(data=grouped_data, x='recall', bins=10, kde=True, hue='Resampled')\n",
    "plt.title('Distribution of Recall Values')\n",
    "plt.xlabel('Recall')\n",
    "plt.ylabel('Frequency')\n",
    "plt.show()\n",
    "\n",
    "# Visualization 3: Correlation Heatmap of Performance Metrics\n",
    "plt.figure(figsize=(8, 6))\n",
    "corr = grouped_data[metrics].corr()\n",
    "sns.heatmap(corr, annot=True, cmap='coolwarm')\n",
    "plt.title('Correlation between Performance Metrics')\n",
    "plt.show()\n"
   ]
  },
  {
   "cell_type": "markdown",
   "metadata": {
    "id": "EGYDv2ZnCHpn"
   },
   "source": [
    "# Pickle the selected model for future use."
   ]
  },
  {
   "cell_type": "code",
   "execution_count": 137,
   "metadata": {
    "id": "1hxp93LEDgdY"
   },
   "outputs": [],
   "source": [
    "import pickle\n",
    "with open('model.pkl', 'wb') as file:\n",
    "    pickle.dump(model, file)\n",
    "\n",
    "\n",
    "# Load the saved model\n",
    "with open('model.pkl', 'rb') as file:\n",
    "    loaded_model = pickle.load(file)\n"
   ]
  }
 ],
 "metadata": {
  "accelerator": "TPU",
  "colab": {
   "collapsed_sections": [
    "NI4SxaHiFmhV",
    "pR0qCuOeYWUR",
    "ABsUHyL5YS-8",
    "FxheLB8WGhVP",
    "EUX9FWOdRjc9",
    "7n9KnV_AxqT4",
    "Aegw6w83XC3_",
    "559KZXpL4e94",
    "dsf98QRUWZWc",
    "EGYDv2ZnCHpn"
   ],
   "provenance": []
  },
  "kernelspec": {
   "display_name": "Python 3 (ipykernel)",
   "language": "python",
   "name": "python3"
  },
  "language_info": {
   "codemirror_mode": {
    "name": "ipython",
    "version": 3
   },
   "file_extension": ".py",
   "mimetype": "text/x-python",
   "name": "python",
   "nbconvert_exporter": "python",
   "pygments_lexer": "ipython3",
   "version": "3.11.5"
  }
 },
 "nbformat": 4,
 "nbformat_minor": 1
}
